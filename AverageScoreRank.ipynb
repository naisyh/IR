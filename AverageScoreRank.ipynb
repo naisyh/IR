{
  "nbformat": 4,
  "nbformat_minor": 0,
  "metadata": {
    "colab": {
      "provenance": [],
      "authorship_tag": "ABX9TyPdyv63IVJmmxm07bWP64Dt",
      "include_colab_link": true
    },
    "kernelspec": {
      "name": "python3",
      "display_name": "Python 3"
    },
    "language_info": {
      "name": "python"
    }
  },
  "cells": [
    {
      "cell_type": "markdown",
      "metadata": {
        "id": "view-in-github",
        "colab_type": "text"
      },
      "source": [
        "<a href=\"https://colab.research.google.com/github/naisyh/IR/blob/main/AverageScoreRank.ipynb\" target=\"_parent\"><img src=\"https://colab.research.google.com/assets/colab-badge.svg\" alt=\"Open In Colab\"/></a>"
      ]
    },
    {
      "cell_type": "code",
      "execution_count": 1,
      "metadata": {
        "colab": {
          "base_uri": "https://localhost:8080/"
        },
        "id": "FJbxISYADkb3",
        "outputId": "acaf5187-fc6f-465d-a593-08ff6be9c047"
      },
      "outputs": [
        {
          "output_type": "stream",
          "name": "stdout",
          "text": [
            "Sorted by P@10:\n",
            "       system   P@10     P@100   MAP@100    MAP@10\n",
            "0     GE8MTD2  0.602  0.271800  0.562747  0.777742\n",
            "1     ok8amxc  0.550  0.268000  0.503462  0.680115\n",
            "2     Flab8ax  0.524  0.269000  0.490554  0.682697\n",
            "3    MITSLStd  0.508  0.255800  0.490214  0.677734\n",
            "4    apl8c221  0.504  0.255800  0.467786  0.663076\n",
            "5     Flab8at  0.486  0.255400  0.467668  0.623027\n",
            "6    att99ate  0.476  0.249800  0.439029  0.578223\n",
            "7     ric8dpn  0.450  0.225200  0.430575  0.619269\n",
            "8     pir9Aa1  0.450  0.212800  0.427635  0.623682\n",
            "9   Mer8Adtd2  0.444  0.209600  0.423007  0.614812\n",
            "10    mds08a2  0.416  0.202800  0.394894  0.562984\n",
            "11    plt8ah2  0.332  0.149800  0.327846  0.501064\n",
            "12     Dm8Nbn  0.190  0.082000  0.227073  0.323852\n",
            "13      UB99T  0.146  0.078200  0.192320  0.275272\n",
            "14     isa25t  0.092  0.042231  0.136702  0.144174\n",
            "\n",
            "Sorted by P@100:\n",
            "       system   P@10     P@100   MAP@100    MAP@10\n",
            "0     GE8MTD2  0.602  0.271800  0.562747  0.777742\n",
            "2     Flab8ax  0.524  0.269000  0.490554  0.682697\n",
            "1     ok8amxc  0.550  0.268000  0.503462  0.680115\n",
            "3    MITSLStd  0.508  0.255800  0.490214  0.677734\n",
            "4    apl8c221  0.504  0.255800  0.467786  0.663076\n",
            "5     Flab8at  0.486  0.255400  0.467668  0.623027\n",
            "6    att99ate  0.476  0.249800  0.439029  0.578223\n",
            "7     ric8dpn  0.450  0.225200  0.430575  0.619269\n",
            "8     pir9Aa1  0.450  0.212800  0.427635  0.623682\n",
            "9   Mer8Adtd2  0.444  0.209600  0.423007  0.614812\n",
            "10    mds08a2  0.416  0.202800  0.394894  0.562984\n",
            "11    plt8ah2  0.332  0.149800  0.327846  0.501064\n",
            "12     Dm8Nbn  0.190  0.082000  0.227073  0.323852\n",
            "13      UB99T  0.146  0.078200  0.192320  0.275272\n",
            "14     isa25t  0.092  0.042231  0.136702  0.144174\n",
            "\n",
            "Sorted by MAP@100:\n",
            "       system   P@10     P@100   MAP@100    MAP@10\n",
            "0     GE8MTD2  0.602  0.271800  0.562747  0.777742\n",
            "1     ok8amxc  0.550  0.268000  0.503462  0.680115\n",
            "2     Flab8ax  0.524  0.269000  0.490554  0.682697\n",
            "3    MITSLStd  0.508  0.255800  0.490214  0.677734\n",
            "4    apl8c221  0.504  0.255800  0.467786  0.663076\n",
            "5     Flab8at  0.486  0.255400  0.467668  0.623027\n",
            "6    att99ate  0.476  0.249800  0.439029  0.578223\n",
            "7     ric8dpn  0.450  0.225200  0.430575  0.619269\n",
            "8     pir9Aa1  0.450  0.212800  0.427635  0.623682\n",
            "9   Mer8Adtd2  0.444  0.209600  0.423007  0.614812\n",
            "10    mds08a2  0.416  0.202800  0.394894  0.562984\n",
            "11    plt8ah2  0.332  0.149800  0.327846  0.501064\n",
            "12     Dm8Nbn  0.190  0.082000  0.227073  0.323852\n",
            "13      UB99T  0.146  0.078200  0.192320  0.275272\n",
            "14     isa25t  0.092  0.042231  0.136702  0.144174\n",
            "\n",
            "Sorted by MAP@10:\n",
            "       system   P@10     P@100   MAP@100    MAP@10\n",
            "0     GE8MTD2  0.602  0.271800  0.562747  0.777742\n",
            "2     Flab8ax  0.524  0.269000  0.490554  0.682697\n",
            "1     ok8amxc  0.550  0.268000  0.503462  0.680115\n",
            "3    MITSLStd  0.508  0.255800  0.490214  0.677734\n",
            "4    apl8c221  0.504  0.255800  0.467786  0.663076\n",
            "8     pir9Aa1  0.450  0.212800  0.427635  0.623682\n",
            "5     Flab8at  0.486  0.255400  0.467668  0.623027\n",
            "7     ric8dpn  0.450  0.225200  0.430575  0.619269\n",
            "9   Mer8Adtd2  0.444  0.209600  0.423007  0.614812\n",
            "6    att99ate  0.476  0.249800  0.439029  0.578223\n",
            "10    mds08a2  0.416  0.202800  0.394894  0.562984\n",
            "11    plt8ah2  0.332  0.149800  0.327846  0.501064\n",
            "12     Dm8Nbn  0.190  0.082000  0.227073  0.323852\n",
            "13      UB99T  0.146  0.078200  0.192320  0.275272\n",
            "14     isa25t  0.092  0.042231  0.136702  0.144174\n"
          ]
        }
      ],
      "source": [
        "import pandas as pd\n",
        "\n",
        "# Data\n",
        "data = '/content/average_scores.csv'\n",
        "\n",
        "# Load the CSV file into a DataFrame\n",
        "df = pd.read_csv(data)\n",
        "\n",
        "# Sort by each metric in descending order\n",
        "sorted_by_P10 = df.sort_values(by='P@10', ascending=False)\n",
        "sorted_by_P100 = df.sort_values(by='P@100', ascending=False)\n",
        "sorted_by_MAP100 = df.sort_values(by='MAP@100', ascending=False)\n",
        "sorted_by_MAP10 = df.sort_values(by='MAP@10', ascending=False)\n",
        "\n",
        "# Display the sorted DataFrames\n",
        "print(\"Sorted by P@10:\")\n",
        "print(sorted_by_P10)\n",
        "print(\"\\nSorted by P@100:\")\n",
        "print(sorted_by_P100)\n",
        "print(\"\\nSorted by MAP@100:\")\n",
        "print(sorted_by_MAP100)\n",
        "print(\"\\nSorted by MAP@10:\")\n",
        "print(sorted_by_MAP10)"
      ]
    }
  ]
}