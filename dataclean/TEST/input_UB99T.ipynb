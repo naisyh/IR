{
  "cells": [
    {
      "cell_type": "code",
      "execution_count": 10,
      "metadata": {
        "colab": {
          "base_uri": "https://localhost:8080/"
        },
        "id": "o7mWhXicAJlX",
        "outputId": "6e0b0e21-73b2-4d37-d31b-6cb92db972e1"
      },
      "outputs": [
        {
          "name": "stdout",
          "output_type": "stream",
          "text": [
            "       topicId identifier          docId  ranking  similarityScore systemName\n",
            "0          401         Q0    FBIS4-25684        0         177.0670      UB99T\n",
            "1          401         Q0    FBIS4-22981        1         139.5210      UB99T\n",
            "2          401         Q0    FBIS4-68773        2         120.6760      UB99T\n",
            "3          401         Q0    FBIS3-61091        3         110.9000      UB99T\n",
            "4          401         Q0     FT941-3931        4          85.2391      UB99T\n",
            "...        ...        ...            ...      ...              ...        ...\n",
            "49995      450         Q0  LA051090-0085      803           0.0700      UB99T\n",
            "49996      450         Q0  LA051090-0102      971           0.0700      UB99T\n",
            "49997      450         Q0  LA051190-0035      703           0.0700      UB99T\n",
            "49998      450         Q0  LA051290-0032      720           0.0700      UB99T\n",
            "49999      450         Q0  LA051489-0029      882           0.0700      UB99T\n",
            "\n",
            "[50000 rows x 6 columns]\n"
          ]
        }
      ],
      "source": [
        "import pandas as pd\n",
        "\n",
        "# Define the path to your QREL file\n",
        "data_path = 'D:\\VSCODE PROJECT\\IR\\dataset\\input.UB99T'\n",
        "\n",
        "# Define column names for the DataFrame\n",
        "column_names = ['topicId', 'identifier', 'docId', 'ranking', 'similarityScore', 'systemName']\n",
        "\n",
        "# Read the QREL file into a DataFrame\n",
        "df = pd.read_csv(data_path, sep='\\t', header=None, names=column_names)\n",
        "\n",
        "# Display the first few rows of the DataFrame to verify\n",
        "print(df)\n"
      ]
    },
    {
      "cell_type": "code",
      "execution_count": 11,
      "metadata": {
        "colab": {
          "base_uri": "https://localhost:8080/"
        },
        "id": "fIGgEcr9zA8f",
        "outputId": "99c28087-7541-48b7-f85f-e07e42e01f1d"
      },
      "outputs": [
        {
          "name": "stdout",
          "output_type": "stream",
          "text": [
            "topicId\n",
            "401    1000\n",
            "402    1000\n",
            "403    1000\n",
            "404    1000\n",
            "405    1000\n",
            "406    1000\n",
            "407    1000\n",
            "408    1000\n",
            "409    1000\n",
            "410    1000\n",
            "411    1000\n",
            "412    1000\n",
            "413    1000\n",
            "414    1000\n",
            "415    1000\n",
            "416    1000\n",
            "417    1000\n",
            "418    1000\n",
            "419    1000\n",
            "420    1000\n",
            "421    1000\n",
            "422    1000\n",
            "423    1000\n",
            "424    1000\n",
            "425    1000\n",
            "426    1000\n",
            "427    1000\n",
            "428    1000\n",
            "429    1000\n",
            "430    1000\n",
            "431    1000\n",
            "432    1000\n",
            "433    1000\n",
            "434    1000\n",
            "435    1000\n",
            "436    1000\n",
            "437    1000\n",
            "438    1000\n",
            "439    1000\n",
            "440    1000\n",
            "441    1000\n",
            "442    1000\n",
            "443    1000\n",
            "444    1000\n",
            "445    1000\n",
            "446    1000\n",
            "447    1000\n",
            "448    1000\n",
            "449    1000\n",
            "450    1000\n",
            "Name: count, dtype: int64\n"
          ]
        }
      ],
      "source": [
        "# Count the number of rows per topicid\n",
        "topicId_counts = df['topicId'].value_counts().sort_index()\n",
        "print(topicId_counts)"
      ]
    },
    {
      "cell_type": "code",
      "execution_count": 12,
      "metadata": {},
      "outputs": [
        {
          "name": "stdout",
          "output_type": "stream",
          "text": [
            "Data type of each column: \n",
            "topicId              int64\n",
            "identifier          object\n",
            "docId               object\n",
            "ranking              int64\n",
            "similarityScore    float64\n",
            "systemName          object\n",
            "dtype: object\n",
            "Count of null values in each column: \n",
            "topicId            0\n",
            "identifier         0\n",
            "docId              0\n",
            "ranking            0\n",
            "similarityScore    0\n",
            "systemName         0\n",
            "dtype: int64\n"
          ]
        }
      ],
      "source": [
        "# Check data types of all columns\n",
        "print(\"Data type of each column: \")\n",
        "print(df.dtypes)\n",
        "\n",
        "# Check null value\n",
        "print( \"Count of null values in each column: \")\n",
        "print(df.isnull().sum())"
      ]
    },
    {
      "cell_type": "code",
      "execution_count": 13,
      "metadata": {
        "colab": {
          "base_uri": "https://localhost:8080/"
        },
        "id": "COz9Uz161E9N",
        "outputId": "ab9b84de-9784-490f-fea0-0a86d3d79530"
      },
      "outputs": [
        {
          "name": "stdout",
          "output_type": "stream",
          "text": [
            "\n",
            "Rank in ascending order starting from 0 per topicid:\n",
            "topicId\n",
            "401    False\n",
            "402    False\n",
            "403    False\n",
            "404    False\n",
            "405    False\n",
            "406    False\n",
            "407    False\n",
            "408    False\n",
            "409    False\n",
            "410    False\n",
            "411    False\n",
            "412    False\n",
            "413    False\n",
            "414    False\n",
            "415    False\n",
            "416    False\n",
            "417    False\n",
            "418    False\n",
            "419    False\n",
            "420    False\n",
            "421    False\n",
            "422    False\n",
            "423    False\n",
            "424    False\n",
            "425    False\n",
            "426    False\n",
            "427    False\n",
            "428    False\n",
            "429    False\n",
            "430    False\n",
            "431    False\n",
            "432    False\n",
            "433    False\n",
            "434    False\n",
            "435    False\n",
            "436    False\n",
            "437    False\n",
            "438    False\n",
            "439    False\n",
            "440    False\n",
            "441    False\n",
            "442    False\n",
            "443    False\n",
            "444    False\n",
            "445    False\n",
            "446    False\n",
            "447    False\n",
            "448    False\n",
            "449    False\n",
            "450    False\n",
            "dtype: bool\n"
          ]
        }
      ],
      "source": [
        "# Function to check if the rank starts from 0 and is in ascending order\n",
        "def is_rank_ascending_from_zero(group):\n",
        "    ranks = group['ranking'].values\n",
        "    return (ranks == range(len(ranks))).all()\n",
        "\n",
        "# Group by topicid and check the rank order\n",
        "rank_ascending_from_zero = df.groupby('topicId').apply(is_rank_ascending_from_zero)\n",
        "print(\"\\nRank in ascending order starting from 0 per topicid:\")\n",
        "print(rank_ascending_from_zero)\n"
      ]
    },
    {
      "cell_type": "code",
      "execution_count": 14,
      "metadata": {},
      "outputs": [
        {
          "name": "stdout",
          "output_type": "stream",
          "text": [
            "Rows with non-increasing ranks:\n",
            "       topicId identifier             docId  ranking  similarityScore  \\\n",
            "242        401         Q0     LA032889-0062      241          9.57709   \n",
            "418        401         Q0     LA033090-0141      416          4.93642   \n",
            "535        401         Q0         FT911-225      533          3.03557   \n",
            "590        401         Q0  FR941025-2-00062      587          2.43828   \n",
            "601        401         Q0       FBIS3-10838      597          2.32113   \n",
            "...        ...        ...               ...      ...              ...   \n",
            "49988      450         Q0     LA041790-0124      633          0.07000   \n",
            "49990      450         Q0     LA042289-0143      772          0.07000   \n",
            "49993      450         Q0     LA042590-0123      850          0.07000   \n",
            "49995      450         Q0     LA051090-0085      803          0.07000   \n",
            "49997      450         Q0     LA051190-0035      703          0.07000   \n",
            "\n",
            "      systemName  \n",
            "242        UB99T  \n",
            "418        UB99T  \n",
            "535        UB99T  \n",
            "590        UB99T  \n",
            "601        UB99T  \n",
            "...          ...  \n",
            "49988      UB99T  \n",
            "49990      UB99T  \n",
            "49993      UB99T  \n",
            "49995      UB99T  \n",
            "49997      UB99T  \n",
            "\n",
            "[14968 rows x 6 columns]\n"
          ]
        }
      ],
      "source": [
        "# Function to identify non-increasing ranks within each group\n",
        "def find_non_increasing_ranks(group):\n",
        "    # Calculate the difference between consecutive ranks\n",
        "    rank_diff = group['ranking'].diff()\n",
        "    # Identify rows where the difference is not positive\n",
        "    non_increasing = rank_diff[rank_diff <= 0].index\n",
        "    return non_increasing\n",
        "\n",
        "# Apply the function to each group and concatenate the results\n",
        "non_increasing_rows = df.groupby('topicId').apply(find_non_increasing_ranks).reset_index(level=0, drop=True)\n",
        "non_increasing_rows = non_increasing_rows.explode().dropna().astype(int)\n",
        "\n",
        "# Display the rows that do not follow an increasing order in ranking\n",
        "print(\"Rows with non-increasing ranks:\")\n",
        "print(df.loc[non_increasing_rows])"
      ]
    },
    {
      "cell_type": "code",
      "execution_count": 15,
      "metadata": {
        "colab": {
          "base_uri": "https://localhost:8080/"
        },
        "id": "Y9FH_si67hpi",
        "outputId": "e88cfc0a-c2c0-4f71-b6e6-2ecc608cfa00"
      },
      "outputs": [
        {
          "name": "stdout",
          "output_type": "stream",
          "text": [
            "\n",
            "Similarity score in descending order per topicid:\n",
            "topicId\n",
            "401    False\n",
            "402    False\n",
            "403     True\n",
            "404     True\n",
            "405     True\n",
            "406     True\n",
            "407    False\n",
            "408     True\n",
            "409     True\n",
            "410    False\n",
            "411     True\n",
            "412     True\n",
            "413     True\n",
            "414     True\n",
            "415     True\n",
            "416     True\n",
            "417    False\n",
            "418     True\n",
            "419     True\n",
            "420     True\n",
            "421     True\n",
            "422     True\n",
            "423     True\n",
            "424     True\n",
            "425     True\n",
            "426     True\n",
            "427     True\n",
            "428     True\n",
            "429     True\n",
            "430     True\n",
            "431     True\n",
            "432     True\n",
            "433     True\n",
            "434     True\n",
            "435     True\n",
            "436     True\n",
            "437     True\n",
            "438     True\n",
            "439     True\n",
            "440     True\n",
            "441     True\n",
            "442     True\n",
            "443     True\n",
            "444     True\n",
            "445     True\n",
            "446     True\n",
            "447     True\n",
            "448     True\n",
            "449     True\n",
            "450     True\n",
            "Name: similarityScore, dtype: bool\n"
          ]
        }
      ],
      "source": [
        "# Function to check if a series is in descending order\n",
        "def is_descending(series):\n",
        "    return series.is_monotonic_decreasing\n",
        "\n",
        "# Check if similarityscore is in descending order for each topicid\n",
        "similarity_descending = df.groupby('topicId')['similarityScore'].apply(is_descending)\n",
        "print(\"\\nSimilarity score in descending order per topicid:\")\n",
        "print(similarity_descending)"
      ]
    },
    {
      "cell_type": "code",
      "execution_count": 16,
      "metadata": {
        "colab": {
          "base_uri": "https://localhost:8080/"
        },
        "id": "r65mRiC6AOBW",
        "outputId": "e87e5819-3796-4974-b5d0-a0777e4beb12"
      },
      "outputs": [
        {
          "name": "stdout",
          "output_type": "stream",
          "text": [
            "Ranking has duplicates within each topicId: False\n",
            "Ranking is in ascending order within each topicId: False\n",
            "SimilarityScore is in descending order within each topicId: False\n"
          ]
        }
      ],
      "source": [
        "# Check for duplicates in 'Ranking' within each 'topicId' group\n",
        "has_duplicates = df.groupby('topicId')['ranking'].apply(lambda x: x.duplicated()).any()\n",
        "\n",
        "# Check if 'Ranking' is in ascending order within each 'topicId' group\n",
        "is_ascending_ranking = df.groupby('topicId')['ranking'].apply(lambda x: x.is_monotonic_increasing).all()\n",
        "\n",
        "# Check if 'SimilarityScore' is in descending order within each 'topicId' group\n",
        "is_descending_similarity = df.groupby('topicId')['similarityScore'].apply(lambda x: x.is_monotonic_decreasing).all()\n",
        "\n",
        "# Print the results\n",
        "print(\"Ranking has duplicates within each topicId:\", has_duplicates)\n",
        "print(\"Ranking is in ascending order within each topicId:\", is_ascending_ranking)\n",
        "print(\"SimilarityScore is in descending order within each topicId:\", is_descending_similarity)"
      ]
    },
    {
      "cell_type": "code",
      "execution_count": 17,
      "metadata": {
        "colab": {
          "base_uri": "https://localhost:8080/"
        },
        "id": "pgxfDo4xw6ZB",
        "outputId": "e4105019-f591-4322-ac0f-ec4bc14fa298"
      },
      "outputs": [
        {
          "name": "stdout",
          "output_type": "stream",
          "text": [
            "       topicId identifier          docId  ranking  similarityScore systemName\n",
            "0          401         Q0    FBIS4-25684        1         177.0670      UB99T\n",
            "1          401         Q0    FBIS4-22981        2         139.5210      UB99T\n",
            "2          401         Q0    FBIS4-68773        3         120.6760      UB99T\n",
            "3          401         Q0    FBIS3-61091        4         110.9000      UB99T\n",
            "4          401         Q0     FT941-3931        5          85.2391      UB99T\n",
            "...        ...        ...            ...      ...              ...        ...\n",
            "49995      450         Q0  LA051090-0085      996           0.0700      UB99T\n",
            "49996      450         Q0  LA051090-0102      997           0.0700      UB99T\n",
            "49997      450         Q0  LA051190-0035      998           0.0700      UB99T\n",
            "49998      450         Q0  LA051290-0032      999           0.0700      UB99T\n",
            "49999      450         Q0  LA051489-0029     1000           0.0700      UB99T\n",
            "\n",
            "[50000 rows x 6 columns]\n"
          ]
        }
      ],
      "source": [
        "# Convert the similarityscore to a numeric type if it's not already\n",
        "df['similarityScore'] = pd.to_numeric(df['similarityScore'])\n",
        "\n",
        "# Sort the DataFrame by topicid and similarityscore in descending order\n",
        "df = df.sort_values(by=[\"topicId\", \"similarityScore\"], ascending=[True, False])\n",
        "\n",
        "# Reassign the rank within each topicid group\n",
        "df['ranking'] = df.groupby('topicId').cumcount() + 1\n",
        "\n",
        "print(df)"
      ]
    },
    {
      "cell_type": "code",
      "execution_count": 18,
      "metadata": {
        "id": "7dHPnbZDSLp_"
      },
      "outputs": [],
      "source": [
        "# Save the cleaned DataFrame back to a file\n",
        "save_path = \"D:\\VSCODE PROJECT\\IR\\cleaned_dataset\\cleaned_input.UB99T.txt\"\n",
        "\n",
        "df.to_csv(save_path, sep=\"\\t\", header=False, index=False)"
      ]
    }
  ],
  "metadata": {
    "colab": {
      "provenance": []
    },
    "kernelspec": {
      "display_name": "Python 3",
      "name": "python3"
    },
    "language_info": {
      "codemirror_mode": {
        "name": "ipython",
        "version": 3
      },
      "file_extension": ".py",
      "mimetype": "text/x-python",
      "name": "python",
      "nbconvert_exporter": "python",
      "pygments_lexer": "ipython3",
      "version": "3.11.7"
    }
  },
  "nbformat": 4,
  "nbformat_minor": 0
}
