{
 "cells": [
  {
   "cell_type": "code",
   "execution_count": 21,
   "metadata": {},
   "outputs": [],
   "source": [
    "import pandas as pd\n",
    "\n",
    "def parse_qrels(qrels_file):\n",
    "    qrels = {}\n",
    "    with open(qrels_file, 'r') as file:\n",
    "        for line in file:\n",
    "            topic, _, doc_id, relevance = line.split()\n",
    "            relevance = int(relevance)\n",
    "            if topic not in qrels:\n",
    "                qrels[topic] = {}\n",
    "            qrels[topic][doc_id] = relevance\n",
    "    return qrels\n",
    "\n",
    "qrels_file_path = 'D:\\VSCODE PROJECT\\IR\\dataset\\qrels.trec8.csv'\n",
    "qrels = parse_qrels(qrels_file_path)\n"
   ]
  },
  {
   "cell_type": "code",
   "execution_count": 22,
   "metadata": {},
   "outputs": [],
   "source": [
    "def precision_at_k(relevant, retrieved, k=10):\n",
    "    if k > len(retrieved):\n",
    "        k = len(retrieved)\n",
    "    relevant_at_k = list(relevant)[:k]\n",
    "    retrieved_at_k = retrieved[:k]\n",
    "    true_positives = len(set(relevant_at_k) & set(retrieved_at_k))\n",
    "    return true_positives / k\n",
    "\n",
    "def average_precision(relevant, retrieved, k=100):\n",
    "    precisions = []\n",
    "    for i in range(1, k + 1):\n",
    "        if i <= len(retrieved) and retrieved[i - 1] in relevant:\n",
    "            precisions.append(precision_at_k(relevant, retrieved, i))\n",
    "    if not precisions:\n",
    "        return 0.0\n",
    "    return sum(precisions) / len(precisions)\n",
    "\n",
    "def calculate_metrics_for_system(system_file, qrel_dict):\n",
    "    system_results = pd.read_csv(system_file)\n",
    "    system_results.sort_values(by=['topicId', 'ranking'], inplace=True)\n",
    "    \n",
    "    p_at_10_results = []\n",
    "    ap_at_100_results = []\n",
    "    \n",
    "    grouped_results = system_results.groupby('topicId')\n",
    "    for topic_id, group in grouped_results:\n",
    "        topic_id = str(topic_id)\n",
    "        relevant = qrel_dict.get(topic_id, set())\n",
    "        retrieved = group['docId'].tolist()\n",
    "        \n",
    "        p_at_10 = precision_at_k(relevant, retrieved, 10)\n",
    "        ap_at_100 = average_precision(relevant, retrieved, 100)\n",
    "        \n",
    "        p_at_10_results.append({'topicId': topic_id, 'P@10': p_at_10})\n",
    "        ap_at_100_results.append({'topicId': topic_id, 'AP@100': ap_at_100})\n",
    "        \n",
    "    p_at_10_df = pd.DataFrame(p_at_10_results)\n",
    "    ap_at_100_df = pd.DataFrame(ap_at_100_results)\n",
    "    \n",
    "    return p_at_10_df, ap_at_100_df\n"
   ]
  },
  {
   "cell_type": "code",
   "execution_count": 25,
   "metadata": {},
   "outputs": [
    {
     "name": "stdout",
     "output_type": "stream",
     "text": [
      "['D:\\\\VSCODE PROJECT\\\\IR\\\\cleaned\\\\ok8amxc.ok8amxc.csv']\n",
      "Columns in the test file: Index(['401\\tQ0\\tFBIS4-18182\\t1\\t3.59032\\tok8amxc'], dtype='object')\n"
     ]
    }
   ],
   "source": [
    "import glob\n",
    "import pandas as pd\n",
    "\n",
    "# Ensure correct file path pattern\n",
    "input_files = glob.glob(r'D:\\VSCODE PROJECT\\IR\\cleaned\\*.csv')\n",
    "\n",
    "# Print matched files to verify\n",
    "print(input_files)\n",
    "\n",
    "# Check the columns of the first file\n",
    "if input_files:\n",
    "    test_file = input_files[0]\n",
    "    test_df = pd.read_csv(test_file)\n",
    "    print(\"Columns in the test file:\", test_df.columns)\n",
    "else:\n",
    "    print(\"No files found. Please check the directory and file pattern.\")\n"
   ]
  },
  {
   "cell_type": "code",
   "execution_count": 26,
   "metadata": {},
   "outputs": [
    {
     "ename": "KeyError",
     "evalue": "'topicId'",
     "output_type": "error",
     "traceback": [
      "\u001b[1;31m---------------------------------------------------------------------------\u001b[0m",
      "\u001b[1;31mKeyError\u001b[0m                                  Traceback (most recent call last)",
      "\u001b[1;32m~\\AppData\\Local\\Temp\\ipykernel_7108\\3410807623.py\u001b[0m in \u001b[0;36m?\u001b[1;34m()\u001b[0m\n\u001b[0;32m      6\u001b[0m \u001b[0mall_p_at_10\u001b[0m \u001b[1;33m=\u001b[0m \u001b[0mpd\u001b[0m\u001b[1;33m.\u001b[0m\u001b[0mDataFrame\u001b[0m\u001b[1;33m(\u001b[0m\u001b[1;33m)\u001b[0m\u001b[1;33m\u001b[0m\u001b[1;33m\u001b[0m\u001b[0m\n\u001b[0;32m      7\u001b[0m \u001b[0mall_ap_at_100\u001b[0m \u001b[1;33m=\u001b[0m \u001b[0mpd\u001b[0m\u001b[1;33m.\u001b[0m\u001b[0mDataFrame\u001b[0m\u001b[1;33m(\u001b[0m\u001b[1;33m)\u001b[0m\u001b[1;33m\u001b[0m\u001b[1;33m\u001b[0m\u001b[0m\n\u001b[0;32m      8\u001b[0m \u001b[1;33m\u001b[0m\u001b[0m\n\u001b[0;32m      9\u001b[0m \u001b[1;32mfor\u001b[0m \u001b[0msystem_file\u001b[0m\u001b[1;33m,\u001b[0m \u001b[0msystem_name\u001b[0m \u001b[1;32min\u001b[0m \u001b[0mzip\u001b[0m\u001b[1;33m(\u001b[0m\u001b[0minput_files\u001b[0m\u001b[1;33m,\u001b[0m \u001b[0msystem_names\u001b[0m\u001b[1;33m)\u001b[0m\u001b[1;33m:\u001b[0m\u001b[1;33m\u001b[0m\u001b[1;33m\u001b[0m\u001b[0m\n\u001b[1;32m---> 10\u001b[1;33m     \u001b[0mp_at_10_df\u001b[0m\u001b[1;33m,\u001b[0m \u001b[0map_at_100_df\u001b[0m \u001b[1;33m=\u001b[0m \u001b[0mcalculate_metrics_for_system\u001b[0m\u001b[1;33m(\u001b[0m\u001b[0msystem_file\u001b[0m\u001b[1;33m,\u001b[0m \u001b[0mqrels\u001b[0m\u001b[1;33m)\u001b[0m\u001b[1;33m\u001b[0m\u001b[1;33m\u001b[0m\u001b[0m\n\u001b[0m\u001b[0;32m     11\u001b[0m \u001b[1;33m\u001b[0m\u001b[0m\n\u001b[0;32m     12\u001b[0m     \u001b[0mp_at_10_df\u001b[0m\u001b[1;33m.\u001b[0m\u001b[0mcolumns\u001b[0m \u001b[1;33m=\u001b[0m \u001b[1;33m[\u001b[0m\u001b[1;34m'topicId'\u001b[0m\u001b[1;33m,\u001b[0m \u001b[0msystem_name\u001b[0m\u001b[1;33m]\u001b[0m\u001b[1;33m\u001b[0m\u001b[1;33m\u001b[0m\u001b[0m\n\u001b[0;32m     13\u001b[0m     \u001b[0map_at_100_df\u001b[0m\u001b[1;33m.\u001b[0m\u001b[0mcolumns\u001b[0m \u001b[1;33m=\u001b[0m \u001b[1;33m[\u001b[0m\u001b[1;34m'topicId'\u001b[0m\u001b[1;33m,\u001b[0m \u001b[0msystem_name\u001b[0m\u001b[1;33m]\u001b[0m\u001b[1;33m\u001b[0m\u001b[1;33m\u001b[0m\u001b[0m\n",
      "\u001b[1;32m~\\AppData\\Local\\Temp\\ipykernel_7108\\746840400.py\u001b[0m in \u001b[0;36m?\u001b[1;34m(system_file, qrel_dict)\u001b[0m\n\u001b[0;32m     18\u001b[0m \u001b[1;32mdef\u001b[0m \u001b[0mcalculate_metrics_for_system\u001b[0m\u001b[1;33m(\u001b[0m\u001b[0msystem_file\u001b[0m\u001b[1;33m,\u001b[0m \u001b[0mqrel_dict\u001b[0m\u001b[1;33m)\u001b[0m\u001b[1;33m:\u001b[0m\u001b[1;33m\u001b[0m\u001b[1;33m\u001b[0m\u001b[0m\n\u001b[0;32m     19\u001b[0m     \u001b[0msystem_results\u001b[0m \u001b[1;33m=\u001b[0m \u001b[0mpd\u001b[0m\u001b[1;33m.\u001b[0m\u001b[0mread_csv\u001b[0m\u001b[1;33m(\u001b[0m\u001b[0msystem_file\u001b[0m\u001b[1;33m)\u001b[0m\u001b[1;33m\u001b[0m\u001b[1;33m\u001b[0m\u001b[0m\n\u001b[1;32m---> 20\u001b[1;33m     \u001b[0msystem_results\u001b[0m\u001b[1;33m.\u001b[0m\u001b[0msort_values\u001b[0m\u001b[1;33m(\u001b[0m\u001b[0mby\u001b[0m\u001b[1;33m=\u001b[0m\u001b[1;33m[\u001b[0m\u001b[1;34m'topicId'\u001b[0m\u001b[1;33m,\u001b[0m \u001b[1;34m'ranking'\u001b[0m\u001b[1;33m]\u001b[0m\u001b[1;33m,\u001b[0m \u001b[0minplace\u001b[0m\u001b[1;33m=\u001b[0m\u001b[1;32mTrue\u001b[0m\u001b[1;33m)\u001b[0m\u001b[1;33m\u001b[0m\u001b[1;33m\u001b[0m\u001b[0m\n\u001b[0m\u001b[0;32m     21\u001b[0m \u001b[1;33m\u001b[0m\u001b[0m\n\u001b[0;32m     22\u001b[0m     \u001b[0mp_at_10_results\u001b[0m \u001b[1;33m=\u001b[0m \u001b[1;33m[\u001b[0m\u001b[1;33m]\u001b[0m\u001b[1;33m\u001b[0m\u001b[1;33m\u001b[0m\u001b[0m\n\u001b[0;32m     23\u001b[0m     \u001b[0map_at_100_results\u001b[0m \u001b[1;33m=\u001b[0m \u001b[1;33m[\u001b[0m\u001b[1;33m]\u001b[0m\u001b[1;33m\u001b[0m\u001b[1;33m\u001b[0m\u001b[0m\n",
      "\u001b[1;32md:\\USER\\anaconda\\Lib\\site-packages\\pandas\\core\\frame.py\u001b[0m in \u001b[0;36m?\u001b[1;34m(self, by, axis, ascending, inplace, kind, na_position, ignore_index, key)\u001b[0m\n\u001b[0;32m   6923\u001b[0m                 \u001b[1;34mf\"Length of ascending ({len(ascending)})\"\u001b[0m  \u001b[1;31m# type: ignore[arg-type]\u001b[0m\u001b[1;33m\u001b[0m\u001b[1;33m\u001b[0m\u001b[0m\n\u001b[0;32m   6924\u001b[0m                 \u001b[1;34mf\" != length of by ({len(by)})\"\u001b[0m\u001b[1;33m\u001b[0m\u001b[1;33m\u001b[0m\u001b[0m\n\u001b[0;32m   6925\u001b[0m             )\n\u001b[0;32m   6926\u001b[0m         \u001b[1;32mif\u001b[0m \u001b[0mlen\u001b[0m\u001b[1;33m(\u001b[0m\u001b[0mby\u001b[0m\u001b[1;33m)\u001b[0m \u001b[1;33m>\u001b[0m \u001b[1;36m1\u001b[0m\u001b[1;33m:\u001b[0m\u001b[1;33m\u001b[0m\u001b[1;33m\u001b[0m\u001b[0m\n\u001b[1;32m-> 6927\u001b[1;33m             \u001b[0mkeys\u001b[0m \u001b[1;33m=\u001b[0m \u001b[1;33m[\u001b[0m\u001b[0mself\u001b[0m\u001b[1;33m.\u001b[0m\u001b[0m_get_label_or_level_values\u001b[0m\u001b[1;33m(\u001b[0m\u001b[0mx\u001b[0m\u001b[1;33m,\u001b[0m \u001b[0maxis\u001b[0m\u001b[1;33m=\u001b[0m\u001b[0maxis\u001b[0m\u001b[1;33m)\u001b[0m \u001b[1;32mfor\u001b[0m \u001b[0mx\u001b[0m \u001b[1;32min\u001b[0m \u001b[0mby\u001b[0m\u001b[1;33m]\u001b[0m\u001b[1;33m\u001b[0m\u001b[1;33m\u001b[0m\u001b[0m\n\u001b[0m\u001b[0;32m   6928\u001b[0m \u001b[1;33m\u001b[0m\u001b[0m\n\u001b[0;32m   6929\u001b[0m             \u001b[1;31m# need to rewrap columns in Series to apply key function\u001b[0m\u001b[1;33m\u001b[0m\u001b[1;33m\u001b[0m\u001b[0m\n\u001b[0;32m   6930\u001b[0m             \u001b[1;32mif\u001b[0m \u001b[0mkey\u001b[0m \u001b[1;32mis\u001b[0m \u001b[1;32mnot\u001b[0m \u001b[1;32mNone\u001b[0m\u001b[1;33m:\u001b[0m\u001b[1;33m\u001b[0m\u001b[1;33m\u001b[0m\u001b[0m\n",
      "\u001b[1;32md:\\USER\\anaconda\\Lib\\site-packages\\pandas\\core\\frame.py\u001b[0m in \u001b[0;36m?\u001b[1;34m(.0)\u001b[0m\n\u001b[1;32m-> 6927\u001b[1;33m         \u001b[1;33m...\u001b[0m     \u001b[0mkey\u001b[0m\u001b[1;33m=\u001b[0m\u001b[1;32mlambda\u001b[0m \u001b[0mx\u001b[0m\u001b[1;33m:\u001b[0m \u001b[0mnp\u001b[0m\u001b[1;33m.\u001b[0m\u001b[0margsort\u001b[0m\u001b[1;33m(\u001b[0m\u001b[0mindex_natsorted\u001b[0m\u001b[1;33m(\u001b[0m\u001b[0mdf\u001b[0m\u001b[1;33m[\u001b[0m\u001b[1;34m\"time\"\u001b[0m\u001b[1;33m]\u001b[0m\u001b[1;33m)\u001b[0m\u001b[1;33m)\u001b[0m\u001b[1;33m\u001b[0m\u001b[1;33m\u001b[0m\u001b[0m\n\u001b[0m",
      "\u001b[1;32md:\\USER\\anaconda\\Lib\\site-packages\\pandas\\core\\generic.py\u001b[0m in \u001b[0;36m?\u001b[1;34m(self, key, axis)\u001b[0m\n\u001b[0;32m   1840\u001b[0m             \u001b[0mvalues\u001b[0m \u001b[1;33m=\u001b[0m \u001b[0mself\u001b[0m\u001b[1;33m.\u001b[0m\u001b[0mxs\u001b[0m\u001b[1;33m(\u001b[0m\u001b[0mkey\u001b[0m\u001b[1;33m,\u001b[0m \u001b[0maxis\u001b[0m\u001b[1;33m=\u001b[0m\u001b[0mother_axes\u001b[0m\u001b[1;33m[\u001b[0m\u001b[1;36m0\u001b[0m\u001b[1;33m]\u001b[0m\u001b[1;33m)\u001b[0m\u001b[1;33m.\u001b[0m\u001b[0m_values\u001b[0m\u001b[1;33m\u001b[0m\u001b[1;33m\u001b[0m\u001b[0m\n\u001b[0;32m   1841\u001b[0m         \u001b[1;32melif\u001b[0m \u001b[0mself\u001b[0m\u001b[1;33m.\u001b[0m\u001b[0m_is_level_reference\u001b[0m\u001b[1;33m(\u001b[0m\u001b[0mkey\u001b[0m\u001b[1;33m,\u001b[0m \u001b[0maxis\u001b[0m\u001b[1;33m=\u001b[0m\u001b[0maxis\u001b[0m\u001b[1;33m)\u001b[0m\u001b[1;33m:\u001b[0m\u001b[1;33m\u001b[0m\u001b[1;33m\u001b[0m\u001b[0m\n\u001b[0;32m   1842\u001b[0m             \u001b[0mvalues\u001b[0m \u001b[1;33m=\u001b[0m \u001b[0mself\u001b[0m\u001b[1;33m.\u001b[0m\u001b[0maxes\u001b[0m\u001b[1;33m[\u001b[0m\u001b[0maxis\u001b[0m\u001b[1;33m]\u001b[0m\u001b[1;33m.\u001b[0m\u001b[0mget_level_values\u001b[0m\u001b[1;33m(\u001b[0m\u001b[0mkey\u001b[0m\u001b[1;33m)\u001b[0m\u001b[1;33m.\u001b[0m\u001b[0m_values\u001b[0m\u001b[1;33m\u001b[0m\u001b[1;33m\u001b[0m\u001b[0m\n\u001b[0;32m   1843\u001b[0m         \u001b[1;32melse\u001b[0m\u001b[1;33m:\u001b[0m\u001b[1;33m\u001b[0m\u001b[1;33m\u001b[0m\u001b[0m\n\u001b[1;32m-> 1844\u001b[1;33m             \u001b[1;32mraise\u001b[0m \u001b[0mKeyError\u001b[0m\u001b[1;33m(\u001b[0m\u001b[0mkey\u001b[0m\u001b[1;33m)\u001b[0m\u001b[1;33m\u001b[0m\u001b[1;33m\u001b[0m\u001b[0m\n\u001b[0m\u001b[0;32m   1845\u001b[0m \u001b[1;33m\u001b[0m\u001b[0m\n\u001b[0;32m   1846\u001b[0m         \u001b[1;31m# Check for duplicates\u001b[0m\u001b[1;33m\u001b[0m\u001b[1;33m\u001b[0m\u001b[0m\n\u001b[0;32m   1847\u001b[0m         \u001b[1;32mif\u001b[0m \u001b[0mvalues\u001b[0m\u001b[1;33m.\u001b[0m\u001b[0mndim\u001b[0m \u001b[1;33m>\u001b[0m \u001b[1;36m1\u001b[0m\u001b[1;33m:\u001b[0m\u001b[1;33m\u001b[0m\u001b[1;33m\u001b[0m\u001b[0m\n",
      "\u001b[1;31mKeyError\u001b[0m: 'topicId'"
     ]
    }
   ],
   "source": [
    "import glob\n",
    "\n",
    "input_files = glob.glob('D:\\VSCODE PROJECT\\IR\\cleaned\\*.csv')\n",
    "system_names = [f'System {i+1}' for i in range(len(input_files))]\n",
    "\n",
    "all_p_at_10 = pd.DataFrame()\n",
    "all_ap_at_100 = pd.DataFrame()\n",
    "\n",
    "for system_file, system_name in zip(input_files, system_names):\n",
    "    p_at_10_df, ap_at_100_df = calculate_metrics_for_system(system_file, qrels)\n",
    "    \n",
    "    p_at_10_df.columns = ['topicId', system_name]\n",
    "    ap_at_100_df.columns = ['topicId', system_name]\n",
    "    \n",
    "    if all_p_at_10.empty:\n",
    "        all_p_at_10 = p_at_10_df\n",
    "        all_ap_at_100 = ap_at_100_df\n",
    "    else:\n",
    "        all_p_at_10 = pd.merge(all_p_at_10, p_at_10_df, on='topicId')\n",
    "        all_ap_at_100 = pd.merge(all_ap_at_100, ap_at_100_df, on='topicId')\n",
    "\n",
    "# Calculate Mean Precision@10 and Mean Precision@100 for each system\n",
    "mean_p_at_10 = all_p_at_10.mean(axis=0)\n",
    "mean_ap_at_100 = all_ap_at_100.mean(axis=0)\n",
    "\n",
    "mean_metrics = pd.DataFrame({\n",
    "    'System': system_names,\n",
    "    'Mean Precision@10': mean_p_at_10[1:],\n",
    "    'Mean Precision@100': mean_ap_at_100[1:]\n",
    "})\n",
    "\n",
    "# Save results to a CSV file (optional)\n",
    "all_p_at_10.to_csv('precision_at_10_results.csv', index=False)\n",
    "all_ap_at_100.to_csv('ap_at_100_results.csv', index=False)\n",
    "mean_metrics.to_csv('mean_metrics_results.csv', index=False)\n"
   ]
  },
  {
   "cell_type": "code",
   "execution_count": null,
   "metadata": {},
   "outputs": [
    {
     "name": "stdout",
     "output_type": "stream",
     "text": [
      "Precision@10\n",
      "Empty DataFrame\n",
      "Columns: []\n",
      "Index: []\n",
      "\n",
      "Average Precision@100\n",
      "Empty DataFrame\n",
      "Columns: []\n",
      "Index: []\n",
      "\n",
      "Mean Precision@10 and Mean Precision@100\n",
      "Empty DataFrame\n",
      "Columns: [System, Mean Precision@10, Mean Precision@100]\n",
      "Index: []\n"
     ]
    }
   ],
   "source": [
    "print(\"Precision@10\")\n",
    "print(all_p_at_10)\n",
    "\n",
    "print(\"\\nAverage Precision@100\")\n",
    "print(all_ap_at_100)\n",
    "\n",
    "print(\"\\nMean Precision@10 and Mean Precision@100\")\n",
    "print(mean_metrics)\n"
   ]
  }
 ],
 "metadata": {
  "kernelspec": {
   "display_name": "base",
   "language": "python",
   "name": "python3"
  },
  "language_info": {
   "codemirror_mode": {
    "name": "ipython",
    "version": 3
   },
   "file_extension": ".py",
   "mimetype": "text/x-python",
   "name": "python",
   "nbconvert_exporter": "python",
   "pygments_lexer": "ipython3",
   "version": "3.11.7"
  }
 },
 "nbformat": 4,
 "nbformat_minor": 2
}
