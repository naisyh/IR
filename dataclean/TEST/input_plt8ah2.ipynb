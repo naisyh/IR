{
 "cells": [
  {
   "cell_type": "markdown",
   "metadata": {},
   "source": [
    "lowest 999 doc for each topic"
   ]
  },
  {
   "cell_type": "code",
   "execution_count": 9,
   "metadata": {},
   "outputs": [
    {
     "name": "stdout",
     "output_type": "stream",
     "text": [
      "       topicId identifier          docId  ranking  similarityScore systemName\n",
      "0          401         Q0     FBIS4-9582        0        13.814581    plt8ah2\n",
      "1          401         Q0    FT932-10861        1        13.342205    plt8ah2\n",
      "2          401         Q0    FBIS4-18182        2        12.389992    plt8ah2\n",
      "3          401         Q0     FBIS3-9104        3        12.071641    plt8ah2\n",
      "4          401         Q0    FT941-15167        4        11.571873    plt8ah2\n",
      "...        ...        ...            ...      ...              ...        ...\n",
      "49993      450         Q0    FBIS4-13170      995        10.328714    plt8ah2\n",
      "49994      450         Q0  LA082190-0080      996        10.327399    plt8ah2\n",
      "49995      450         Q0  LA123189-0117      997        10.324968    plt8ah2\n",
      "49996      450         Q0  LA102490-0024      998        10.324179    plt8ah2\n",
      "49997      450         Q0    FBIS4-11642      999        10.323837    plt8ah2\n",
      "\n",
      "[49998 rows x 6 columns]\n"
     ]
    }
   ],
   "source": [
    "import pandas as pd\n",
    "\n",
    "# Define the path to your QREL file\n",
    "data_path = 'D:\\VSCODE PROJECT\\IR\\dataset\\input.plt8ah2'\n",
    "\n",
    "# Define column names for the DataFrame\n",
    "column_names = ['topicId', 'identifier', 'docId', 'ranking', 'similarityScore', 'systemName']\n",
    "\n",
    "# Read the QREL file into a DataFrame\n",
    "df = pd.read_csv(data_path, sep='\\t', header=None, names=column_names)\n",
    "\n",
    "# Display the first few rows of the DataFrame to verify\n",
    "print(df)\n"
   ]
  },
  {
   "cell_type": "code",
   "execution_count": 10,
   "metadata": {},
   "outputs": [
    {
     "name": "stdout",
     "output_type": "stream",
     "text": [
      "topicId\n",
      "401    1000\n",
      "402    1000\n",
      "403    1000\n",
      "404    1000\n",
      "405    1000\n",
      "406    1000\n",
      "407    1000\n",
      "408    1000\n",
      "409    1000\n",
      "410    1000\n",
      "411    1000\n",
      "412    1000\n",
      "413    1000\n",
      "414    1000\n",
      "415    1000\n",
      "416     999\n",
      "417    1000\n",
      "418    1000\n",
      "419    1000\n",
      "420    1000\n",
      "421    1000\n",
      "422    1000\n",
      "423    1000\n",
      "424    1000\n",
      "425    1000\n",
      "426    1000\n",
      "427    1000\n",
      "428    1000\n",
      "429    1000\n",
      "430    1000\n",
      "431    1000\n",
      "432    1000\n",
      "433    1000\n",
      "434     999\n",
      "435    1000\n",
      "436    1000\n",
      "437    1000\n",
      "438    1000\n",
      "439    1000\n",
      "440    1000\n",
      "441    1000\n",
      "442    1000\n",
      "443    1000\n",
      "444    1000\n",
      "445    1000\n",
      "446    1000\n",
      "447    1000\n",
      "448    1000\n",
      "449    1000\n",
      "450    1000\n",
      "Name: count, dtype: int64\n"
     ]
    }
   ],
   "source": [
    "# Count the number of rows per topicid\n",
    "topicId_counts = df['topicId'].value_counts().sort_index()\n",
    "print(topicId_counts)"
   ]
  },
  {
   "cell_type": "code",
   "execution_count": 11,
   "metadata": {},
   "outputs": [
    {
     "name": "stdout",
     "output_type": "stream",
     "text": [
      "Data type of each column: \n",
      "topicId              int64\n",
      "identifier          object\n",
      "docId               object\n",
      "ranking              int64\n",
      "similarityScore    float64\n",
      "systemName          object\n",
      "dtype: object\n",
      "Count of null values in each column: \n",
      "topicId            0\n",
      "identifier         0\n",
      "docId              0\n",
      "ranking            0\n",
      "similarityScore    0\n",
      "systemName         0\n",
      "dtype: int64\n"
     ]
    }
   ],
   "source": [
    "# Check data types of all columns\n",
    "print(\"Data type of each column: \")\n",
    "print(df.dtypes)\n",
    "\n",
    "# Check null value\n",
    "print( \"Count of null values in each column: \")\n",
    "print(df.isnull().sum())"
   ]
  },
  {
   "cell_type": "code",
   "execution_count": 12,
   "metadata": {},
   "outputs": [
    {
     "name": "stdout",
     "output_type": "stream",
     "text": [
      "Ranking has duplicates within each topicId: False\n",
      "Ranking is in ascending order within each topicId: False\n",
      "SimilarityScore is in descending order within each topicId: True\n"
     ]
    }
   ],
   "source": [
    "# Check for duplicates in 'Ranking' within each 'topicId' group\n",
    "has_duplicates = df.groupby('topicId')['ranking'].apply(lambda x: x.duplicated()).any()\n",
    "\n",
    "# Check if 'Ranking' is in ascending order within each 'topicId' group\n",
    "is_ascending_ranking = df.groupby('topicId')['ranking'].apply(lambda x: x.is_monotonic_increasing).all()\n",
    "\n",
    "# Check if 'SimilarityScore' is in descending order within each 'topicId' group\n",
    "is_descending_similarity = df.groupby('topicId')['similarityScore'].apply(lambda x: x.is_monotonic_decreasing).all()\n",
    "\n",
    "# Print the results\n",
    "print(\"Ranking has duplicates within each topicId:\", has_duplicates)\n",
    "print(\"Ranking is in ascending order within each topicId:\", is_ascending_ranking)\n",
    "print(\"SimilarityScore is in descending order within each topicId:\", is_descending_similarity)"
   ]
  },
  {
   "cell_type": "code",
   "execution_count": 13,
   "metadata": {},
   "outputs": [
    {
     "name": "stdout",
     "output_type": "stream",
     "text": [
      "Rows with non-increasing ranks:\n",
      "       topicId identifier        docId  ranking  similarityScore systemName\n",
      "37         401         Q0   FBIS4-9438       36        10.018311    plt8ah2\n",
      "234        401         Q0  FBIS3-30284      233         8.221656    plt8ah2\n",
      "527        401         Q0  FBIS3-43174      526         7.473248    plt8ah2\n",
      "561        401         Q0   FT944-2530      560         7.416789    plt8ah2\n",
      "660        401         Q0  FBIS3-58045      659         7.255794    plt8ah2\n",
      "...        ...        ...          ...      ...              ...        ...\n",
      "49151      450         Q0  FBIS3-52659      152        16.012465    plt8ah2\n",
      "49362      450         Q0  FBIS3-52615      363        13.305415    plt8ah2\n",
      "49517      450         Q0  FBIS3-52617      518        12.107282    plt8ah2\n",
      "49708      450         Q0  FBIS3-12306      709        11.199286    plt8ah2\n",
      "49805      450         Q0  FBIS3-52611      806        10.906279    plt8ah2\n",
      "\n",
      "[476 rows x 6 columns]\n"
     ]
    }
   ],
   "source": [
    "# Function to identify non-increasing ranks within each group\n",
    "def find_non_increasing_ranks(group):\n",
    "    # Calculate the difference between consecutive ranks\n",
    "    rank_diff = group['ranking'].diff()\n",
    "    # Identify rows where the difference is not positive\n",
    "    non_increasing = rank_diff[rank_diff <= 0].index\n",
    "    return non_increasing\n",
    "\n",
    "# Apply the function to each group and concatenate the results\n",
    "non_increasing_rows = df.groupby('topicId').apply(find_non_increasing_ranks).reset_index(level=0, drop=True)\n",
    "non_increasing_rows = non_increasing_rows.explode().dropna().astype(int)\n",
    "\n",
    "# Display the rows that do not follow an increasing order in ranking\n",
    "print(\"Rows with non-increasing ranks:\")\n",
    "print(df.loc[non_increasing_rows])"
   ]
  },
  {
   "cell_type": "code",
   "execution_count": 14,
   "metadata": {},
   "outputs": [
    {
     "name": "stdout",
     "output_type": "stream",
     "text": [
      "       topicId identifier          docId  ranking  similarityScore systemName\n",
      "0          401         Q0     FBIS4-9582        1        13.814581    plt8ah2\n",
      "1          401         Q0    FT932-10861        2        13.342205    plt8ah2\n",
      "2          401         Q0    FBIS4-18182        3        12.389992    plt8ah2\n",
      "3          401         Q0     FBIS3-9104        4        12.071641    plt8ah2\n",
      "4          401         Q0    FT941-15167        5        11.571873    plt8ah2\n",
      "...        ...        ...            ...      ...              ...        ...\n",
      "49993      450         Q0    FBIS4-13170      996        10.328714    plt8ah2\n",
      "49994      450         Q0  LA082190-0080      997        10.327399    plt8ah2\n",
      "49995      450         Q0  LA123189-0117      998        10.324968    plt8ah2\n",
      "49996      450         Q0  LA102490-0024      999        10.324179    plt8ah2\n",
      "49997      450         Q0    FBIS4-11642     1000        10.323837    plt8ah2\n",
      "\n",
      "[49998 rows x 6 columns]\n"
     ]
    }
   ],
   "source": [
    "# Sort the DataFrame by topicid and similarityscore in descending order\n",
    "df = df.sort_values(by=[\"topicId\", \"similarityScore\"], ascending=[True, False])\n",
    "\n",
    "# Reassign the rank within each topicid group\n",
    "df['ranking'] = df.groupby('topicId').cumcount() + 1\n",
    "\n",
    "print(df)"
   ]
  },
  {
   "cell_type": "code",
   "execution_count": 15,
   "metadata": {},
   "outputs": [],
   "source": [
    "# Save the cleaned DataFrame back to a file\n",
    "save_path = \"D:\\VSCODE PROJECT\\IR\\cleaned_dataset\\cleaned_input.plt8ah2.txt\"\n",
    "\n",
    "df.to_csv(save_path, sep=\"\\t\", header=False, index=False)"
   ]
  }
 ],
 "metadata": {
  "kernelspec": {
   "display_name": "base",
   "language": "python",
   "name": "python3"
  },
  "language_info": {
   "codemirror_mode": {
    "name": "ipython",
    "version": 3
   },
   "file_extension": ".py",
   "mimetype": "text/x-python",
   "name": "python",
   "nbconvert_exporter": "python",
   "pygments_lexer": "ipython3",
   "version": "3.11.7"
  }
 },
 "nbformat": 4,
 "nbformat_minor": 2
}
