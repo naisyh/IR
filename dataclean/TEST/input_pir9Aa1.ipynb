{
 "cells": [
  {
   "cell_type": "code",
   "execution_count": 8,
   "metadata": {},
   "outputs": [
    {
     "name": "stdout",
     "output_type": "stream",
     "text": [
      "       topicId identifier          docId  ranking  similarityScore systemName\n",
      "0          401         Q0     FBIS4-9582        0           4.1810    pir9Aa1\n",
      "1          401         Q0    FBIS4-31715        1           4.0127    pir9Aa1\n",
      "2          401         Q0    FT942-15501        2           3.4143    pir9Aa1\n",
      "3          401         Q0     FBIS3-4201        3           3.3311    pir9Aa1\n",
      "4          401         Q0    FBIS4-18182        4           3.3238    pir9Aa1\n",
      "...        ...        ...            ...      ...              ...        ...\n",
      "49995      450         Q0    FBIS3-13360      995           3.0238    pir9Aa1\n",
      "49996      450         Q0    FBIS4-17507      996           3.0236    pir9Aa1\n",
      "49997      450         Q0    FBIS3-19376      997           3.0234    pir9Aa1\n",
      "49998      450         Q0    FT921-14974      998           3.0221    pir9Aa1\n",
      "49999      450         Q0  LA092089-0141      999           3.0218    pir9Aa1\n",
      "\n",
      "[50000 rows x 6 columns]\n"
     ]
    }
   ],
   "source": [
    "import pandas as pd\n",
    "\n",
    "# Define the path to your QREL file\n",
    "data_path = 'D:\\VSCODE PROJECT\\IR\\dataset\\input.pir9Aa1'\n",
    "\n",
    "# Define column names for the DataFrame\n",
    "column_names = ['topicId', 'identifier', 'docId', 'ranking', 'similarityScore', 'systemName']\n",
    "\n",
    "# Read the QREL file into a DataFrame\n",
    "df = pd.read_csv(data_path, sep='\\t', header=None, names=column_names)\n",
    "\n",
    "# Display the first few rows of the DataFrame to verify\n",
    "print(df)\n"
   ]
  },
  {
   "cell_type": "code",
   "execution_count": 9,
   "metadata": {},
   "outputs": [
    {
     "name": "stdout",
     "output_type": "stream",
     "text": [
      "topicId\n",
      "401    1000\n",
      "402    1000\n",
      "403    1000\n",
      "404    1000\n",
      "405    1000\n",
      "406    1000\n",
      "407    1000\n",
      "408    1000\n",
      "409    1000\n",
      "410    1000\n",
      "411    1000\n",
      "412    1000\n",
      "413    1000\n",
      "414    1000\n",
      "415    1000\n",
      "416    1000\n",
      "417    1000\n",
      "418    1000\n",
      "419    1000\n",
      "420    1000\n",
      "421    1000\n",
      "422    1000\n",
      "423    1000\n",
      "424    1000\n",
      "425    1000\n",
      "426    1000\n",
      "427    1000\n",
      "428    1000\n",
      "429    1000\n",
      "430    1000\n",
      "431    1000\n",
      "432    1000\n",
      "433    1000\n",
      "434    1000\n",
      "435    1000\n",
      "436    1000\n",
      "437    1000\n",
      "438    1000\n",
      "439    1000\n",
      "440    1000\n",
      "441    1000\n",
      "442    1000\n",
      "443    1000\n",
      "444    1000\n",
      "445    1000\n",
      "446    1000\n",
      "447    1000\n",
      "448    1000\n",
      "449    1000\n",
      "450    1000\n",
      "Name: count, dtype: int64\n"
     ]
    }
   ],
   "source": [
    "# Count the number of rows per topicid\n",
    "topicId_counts = df['topicId'].value_counts().sort_index()\n",
    "print(topicId_counts)"
   ]
  },
  {
   "cell_type": "code",
   "execution_count": 10,
   "metadata": {},
   "outputs": [
    {
     "name": "stdout",
     "output_type": "stream",
     "text": [
      "Data type of each column: \n",
      "topicId              int64\n",
      "identifier          object\n",
      "docId               object\n",
      "ranking              int64\n",
      "similarityScore    float64\n",
      "systemName          object\n",
      "dtype: object\n",
      "Count of null values in each column: \n",
      "topicId            0\n",
      "identifier         0\n",
      "docId              0\n",
      "ranking            0\n",
      "similarityScore    0\n",
      "systemName         0\n",
      "dtype: int64\n"
     ]
    }
   ],
   "source": [
    "# Check data types of all columns\n",
    "print(\"Data type of each column: \")\n",
    "print(df.dtypes)\n",
    "\n",
    "# Check null value\n",
    "print( \"Count of null values in each column: \")\n",
    "print(df.isnull().sum())"
   ]
  },
  {
   "cell_type": "code",
   "execution_count": 11,
   "metadata": {},
   "outputs": [
    {
     "name": "stdout",
     "output_type": "stream",
     "text": [
      "Ranking has duplicates within each topicId: False\n",
      "Ranking is in ascending order within each topicId: False\n",
      "SimilarityScore is in descending order within each topicId: True\n"
     ]
    }
   ],
   "source": [
    "# Check for duplicates in 'Ranking' within each 'topicId' group\n",
    "has_duplicates = df.groupby('topicId')['ranking'].apply(lambda x: x.duplicated()).any()\n",
    "\n",
    "# Check if 'Ranking' is in ascending order within each 'topicId' group\n",
    "is_ascending_ranking = df.groupby('topicId')['ranking'].apply(lambda x: x.is_monotonic_increasing).all()\n",
    "\n",
    "# Check if 'SimilarityScore' is in descending order within each 'topicId' group\n",
    "is_descending_similarity = df.groupby('topicId')['similarityScore'].apply(lambda x: x.is_monotonic_decreasing).all()\n",
    "\n",
    "# Print the results\n",
    "print(\"Ranking has duplicates within each topicId:\", has_duplicates)\n",
    "print(\"Ranking is in ascending order within each topicId:\", is_ascending_ranking)\n",
    "print(\"SimilarityScore is in descending order within each topicId:\", is_descending_similarity)"
   ]
  },
  {
   "cell_type": "code",
   "execution_count": 12,
   "metadata": {},
   "outputs": [
    {
     "name": "stdout",
     "output_type": "stream",
     "text": [
      "Rows with non-increasing ranks:\n",
      "       topicId identifier          docId  ranking  similarityScore systemName\n",
      "97         401         Q0    FBIS3-30284       96           2.5129    pir9Aa1\n",
      "183        401         Q0    FBIS4-55873      182           2.3493    pir9Aa1\n",
      "185        401         Q0     FT943-3436      184           2.3480    pir9Aa1\n",
      "219        401         Q0     FT934-5606      218           2.2994    pir9Aa1\n",
      "247        401         Q0    FBIS3-36648      246           2.2659    pir9Aa1\n",
      "...        ...        ...            ...      ...              ...        ...\n",
      "49801      450         Q0    FBIS4-50537      800           3.1839    pir9Aa1\n",
      "49826      450         Q0    FBIS4-12153      825           3.1626    pir9Aa1\n",
      "49873      450         Q0    FBIS3-12320      872           3.1313    pir9Aa1\n",
      "49899      450         Q0  LA030889-0043      898           3.1112    pir9Aa1\n",
      "49931      450         Q0  LA112190-0110      930           3.0879    pir9Aa1\n",
      "\n",
      "[2144 rows x 6 columns]\n"
     ]
    }
   ],
   "source": [
    "# Function to identify non-increasing ranks within each group\n",
    "def find_non_increasing_ranks(group):\n",
    "    # Calculate the difference between consecutive ranks\n",
    "    rank_diff = group['ranking'].diff()\n",
    "    # Identify rows where the difference is not positive\n",
    "    non_increasing = rank_diff[rank_diff <= 0].index\n",
    "    return non_increasing\n",
    "\n",
    "# Apply the function to each group and concatenate the results\n",
    "non_increasing_rows = df.groupby('topicId').apply(find_non_increasing_ranks).reset_index(level=0, drop=True)\n",
    "non_increasing_rows = non_increasing_rows.explode().dropna().astype(int)\n",
    "\n",
    "# Display the rows that do not follow an increasing order in ranking\n",
    "print(\"Rows with non-increasing ranks:\")\n",
    "print(df.loc[non_increasing_rows])"
   ]
  },
  {
   "cell_type": "code",
   "execution_count": 13,
   "metadata": {},
   "outputs": [
    {
     "name": "stdout",
     "output_type": "stream",
     "text": [
      "       topicId identifier          docId  ranking  similarityScore systemName\n",
      "0          401         Q0     FBIS4-9582        1           4.1810    pir9Aa1\n",
      "1          401         Q0    FBIS4-31715        2           4.0127    pir9Aa1\n",
      "2          401         Q0    FT942-15501        3           3.4143    pir9Aa1\n",
      "3          401         Q0     FBIS3-4201        4           3.3311    pir9Aa1\n",
      "4          401         Q0    FBIS4-18182        5           3.3238    pir9Aa1\n",
      "...        ...        ...            ...      ...              ...        ...\n",
      "49995      450         Q0    FBIS3-13360      996           3.0238    pir9Aa1\n",
      "49996      450         Q0    FBIS4-17507      997           3.0236    pir9Aa1\n",
      "49997      450         Q0    FBIS3-19376      998           3.0234    pir9Aa1\n",
      "49998      450         Q0    FT921-14974      999           3.0221    pir9Aa1\n",
      "49999      450         Q0  LA092089-0141     1000           3.0218    pir9Aa1\n",
      "\n",
      "[50000 rows x 6 columns]\n"
     ]
    }
   ],
   "source": [
    "# Sort the DataFrame by topicid and similarityscore in descending order\n",
    "df = df.sort_values(by=[\"topicId\", \"similarityScore\"], ascending=[True, False])\n",
    "\n",
    "# Reassign the rank within each topicid group\n",
    "df['ranking'] = df.groupby('topicId').cumcount() + 1\n",
    "\n",
    "print(df)"
   ]
  },
  {
   "cell_type": "code",
   "execution_count": 14,
   "metadata": {},
   "outputs": [],
   "source": [
    "# Save the cleaned DataFrame back to a file\n",
    "save_path = \"D:\\VSCODE PROJECT\\IR\\cleaned_dataset\\cleaned_input.pir9Aa1.txt\"\n",
    "\n",
    "df.to_csv(save_path, sep=\"\\t\", header=False, index=False)"
   ]
  }
 ],
 "metadata": {
  "kernelspec": {
   "display_name": "base",
   "language": "python",
   "name": "python3"
  },
  "language_info": {
   "codemirror_mode": {
    "name": "ipython",
    "version": 3
   },
   "file_extension": ".py",
   "mimetype": "text/x-python",
   "name": "python",
   "nbconvert_exporter": "python",
   "pygments_lexer": "ipython3",
   "version": "3.11.7"
  }
 },
 "nbformat": 4,
 "nbformat_minor": 2
}
