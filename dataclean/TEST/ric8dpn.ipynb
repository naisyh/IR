{
  "cells": [
    {
      "cell_type": "code",
      "execution_count": 9,
      "metadata": {
        "colab": {
          "base_uri": "https://localhost:8080/"
        },
        "id": "_qeS-SlP8k3E",
        "outputId": "291c842d-20a3-48f3-99b0-efc4063872ed"
      },
      "outputs": [
        {
          "name": "stdout",
          "output_type": "stream",
          "text": [
            "       topicId identifier          docId  ranking  similarityScore systemName\n",
            "0          401         Q0  LA052590-0090        1         0.518393    ric8dpn\n",
            "1          401         Q0    FBIS3-19951        2         0.447785    ric8dpn\n",
            "2          401         Q0    FBIS3-59436        3         0.439529    ric8dpn\n",
            "3          401         Q0    FBIS4-68774        4         0.434339    ric8dpn\n",
            "4          401         Q0     FBIS4-9582        5         0.424880    ric8dpn\n",
            "...        ...        ...            ...      ...              ...        ...\n",
            "49995      450         Q0    FBIS3-34583      996         0.327118    ric8dpn\n",
            "49996      450         Q0  LA112090-0166      997         0.327041    ric8dpn\n",
            "49997      450         Q0  LA110490-0183      998         0.326964    ric8dpn\n",
            "49998      450         Q0    FBIS4-35559      999         0.326920    ric8dpn\n",
            "49999      450         Q0    FBIS4-38038     1000         0.326914    ric8dpn\n",
            "\n",
            "[50000 rows x 6 columns]\n"
          ]
        }
      ],
      "source": [
        "import pandas as pd\n",
        "\n",
        "# Define the path to your QREL file\n",
        "data_path = 'D:\\VSCODE PROJECT\\IR\\dataset\\input.ric8dpn'\n",
        "\n",
        "# Define column names for the DataFrame\n",
        "column_names = ['topicId', 'identifier', 'docId', 'ranking', 'similarityScore', 'systemName']\n",
        "\n",
        "# Read the QREL file into a DataFrame\n",
        "df = pd.read_csv(data_path, sep='\\t', header=None, names=column_names)\n",
        "\n",
        "# Display the first few rows of the DataFrame to verify\n",
        "print(df)\n"
      ]
    },
    {
      "cell_type": "code",
      "execution_count": 10,
      "metadata": {
        "colab": {
          "base_uri": "https://localhost:8080/"
        },
        "id": "3uBitLQ6Ccnh",
        "outputId": "5050c0d9-8a32-4a1b-f489-5087e6e1dbfa"
      },
      "outputs": [
        {
          "name": "stdout",
          "output_type": "stream",
          "text": [
            "topicId\n",
            "401    1000\n",
            "402    1000\n",
            "403    1000\n",
            "404    1000\n",
            "405    1000\n",
            "406    1000\n",
            "407    1000\n",
            "408    1000\n",
            "409    1000\n",
            "410    1000\n",
            "411    1000\n",
            "412    1000\n",
            "413    1000\n",
            "414    1000\n",
            "415    1000\n",
            "416    1000\n",
            "417    1000\n",
            "418    1000\n",
            "419    1000\n",
            "420    1000\n",
            "421    1000\n",
            "422    1000\n",
            "423    1000\n",
            "424    1000\n",
            "425    1000\n",
            "426    1000\n",
            "427    1000\n",
            "428    1000\n",
            "429    1000\n",
            "430    1000\n",
            "431    1000\n",
            "432    1000\n",
            "433    1000\n",
            "434    1000\n",
            "435    1000\n",
            "436    1000\n",
            "437    1000\n",
            "438    1000\n",
            "439    1000\n",
            "440    1000\n",
            "441    1000\n",
            "442    1000\n",
            "443    1000\n",
            "444    1000\n",
            "445    1000\n",
            "446    1000\n",
            "447    1000\n",
            "448    1000\n",
            "449    1000\n",
            "450    1000\n",
            "Name: count, dtype: int64\n"
          ]
        }
      ],
      "source": [
        "# Count the number of rows per topicid\n",
        "topicId_counts = df['topicId'].value_counts().sort_index()\n",
        "print(topicId_counts)"
      ]
    },
    {
      "cell_type": "code",
      "execution_count": 11,
      "metadata": {},
      "outputs": [
        {
          "name": "stdout",
          "output_type": "stream",
          "text": [
            "Data type of each column: \n",
            "topicId              int64\n",
            "identifier          object\n",
            "docId               object\n",
            "ranking              int64\n",
            "similarityScore    float64\n",
            "systemName          object\n",
            "dtype: object\n",
            "Count of null values in each column: \n",
            "topicId            0\n",
            "identifier         0\n",
            "docId              0\n",
            "ranking            0\n",
            "similarityScore    0\n",
            "systemName         0\n",
            "dtype: int64\n"
          ]
        }
      ],
      "source": [
        "# Check data types of all columns\n",
        "print(\"Data type of each column: \")\n",
        "print(df.dtypes)\n",
        "\n",
        "# Check null value\n",
        "print( \"Count of null values in each column: \")\n",
        "print(df.isnull().sum())"
      ]
    },
    {
      "cell_type": "code",
      "execution_count": 12,
      "metadata": {
        "colab": {
          "base_uri": "https://localhost:8080/"
        },
        "id": "IeAd0KmE8wO-",
        "outputId": "2108dca9-24f4-428c-ee6d-629898ea2ebc"
      },
      "outputs": [
        {
          "name": "stdout",
          "output_type": "stream",
          "text": [
            "Ranking has duplicates within each topicId: False\n",
            "Ranking is in ascending order within each topicId: False\n",
            "SimilarityScore is in descending order within each topicId: True\n"
          ]
        }
      ],
      "source": [
        "# Check for duplicates in 'Ranking' within each 'topicId' group\n",
        "has_duplicates = df.groupby('topicId')['ranking'].apply(lambda x: x.duplicated()).any()\n",
        "\n",
        "# Check if 'Ranking' is in ascending order within each 'topicId' group\n",
        "is_ascending_ranking = df.groupby('topicId')['ranking'].apply(lambda x: x.is_monotonic_increasing).all()\n",
        "\n",
        "# Check if 'SimilarityScore' is in descending order within each 'topicId' group\n",
        "is_descending_similarity = df.groupby('topicId')['similarityScore'].apply(lambda x: x.is_monotonic_decreasing).all()\n",
        "\n",
        "# Print the results\n",
        "print(\"Ranking has duplicates within each topicId:\", has_duplicates)\n",
        "print(\"Ranking is in ascending order within each topicId:\", is_ascending_ranking)\n",
        "print(\"SimilarityScore is in descending order within each topicId:\", is_descending_similarity)"
      ]
    },
    {
      "cell_type": "code",
      "execution_count": 13,
      "metadata": {
        "colab": {
          "base_uri": "https://localhost:8080/"
        },
        "id": "37WkdUbhAxht",
        "outputId": "0a47a08b-85b8-4234-a295-9b7bc2e81a38"
      },
      "outputs": [
        {
          "name": "stdout",
          "output_type": "stream",
          "text": [
            "\n",
            "Rank in ascending order per topicid:\n",
            "topicId\n",
            "401     True\n",
            "402     True\n",
            "403     True\n",
            "404     True\n",
            "405    False\n",
            "406     True\n",
            "407    False\n",
            "408     True\n",
            "409     True\n",
            "410    False\n",
            "411     True\n",
            "412    False\n",
            "413     True\n",
            "414     True\n",
            "415    False\n",
            "416    False\n",
            "417     True\n",
            "418     True\n",
            "419    False\n",
            "420     True\n",
            "421     True\n",
            "422    False\n",
            "423    False\n",
            "424     True\n",
            "425    False\n",
            "426     True\n",
            "427     True\n",
            "428     True\n",
            "429    False\n",
            "430     True\n",
            "431     True\n",
            "432     True\n",
            "433    False\n",
            "434     True\n",
            "435     True\n",
            "436    False\n",
            "437     True\n",
            "438     True\n",
            "439    False\n",
            "440     True\n",
            "441     True\n",
            "442    False\n",
            "443    False\n",
            "444     True\n",
            "445     True\n",
            "446     True\n",
            "447    False\n",
            "448     True\n",
            "449    False\n",
            "450     True\n",
            "Name: ranking, dtype: bool\n"
          ]
        }
      ],
      "source": [
        "# Function to check if a series is in ascending order\n",
        "def is_ascending(series):\n",
        "    return series.is_monotonic_increasing\n",
        "\n",
        "# Check if rank is in ascending order for each topicid\n",
        "rank_ascending = df.groupby('topicId')['ranking'].apply(is_ascending)\n",
        "print(\"\\nRank in ascending order per topicid:\")\n",
        "print(rank_ascending)"
      ]
    },
    {
      "cell_type": "code",
      "execution_count": 14,
      "metadata": {
        "colab": {
          "base_uri": "https://localhost:8080/"
        },
        "id": "V1kd9qCxPbyl",
        "outputId": "d8617e75-d308-439a-9266-8c840505f1b1"
      },
      "outputs": [
        {
          "name": "stdout",
          "output_type": "stream",
          "text": [
            "\n",
            "Similarity score in descending order per topicid:\n",
            "topicId\n",
            "401    True\n",
            "402    True\n",
            "403    True\n",
            "404    True\n",
            "405    True\n",
            "406    True\n",
            "407    True\n",
            "408    True\n",
            "409    True\n",
            "410    True\n",
            "411    True\n",
            "412    True\n",
            "413    True\n",
            "414    True\n",
            "415    True\n",
            "416    True\n",
            "417    True\n",
            "418    True\n",
            "419    True\n",
            "420    True\n",
            "421    True\n",
            "422    True\n",
            "423    True\n",
            "424    True\n",
            "425    True\n",
            "426    True\n",
            "427    True\n",
            "428    True\n",
            "429    True\n",
            "430    True\n",
            "431    True\n",
            "432    True\n",
            "433    True\n",
            "434    True\n",
            "435    True\n",
            "436    True\n",
            "437    True\n",
            "438    True\n",
            "439    True\n",
            "440    True\n",
            "441    True\n",
            "442    True\n",
            "443    True\n",
            "444    True\n",
            "445    True\n",
            "446    True\n",
            "447    True\n",
            "448    True\n",
            "449    True\n",
            "450    True\n",
            "Name: similarityScore, dtype: bool\n"
          ]
        }
      ],
      "source": [
        "# Function to check if a series is in descending order\n",
        "def is_descending(series):\n",
        "    return series.is_monotonic_decreasing\n",
        "\n",
        "# Check if similarityscore is in descending order for each topicid\n",
        "similarity_descending = df.groupby('topicId')['similarityScore'].apply(is_descending)\n",
        "print(\"\\nSimilarity score in descending order per topicid:\")\n",
        "print(similarity_descending)"
      ]
    },
    {
      "cell_type": "code",
      "execution_count": 15,
      "metadata": {
        "colab": {
          "base_uri": "https://localhost:8080/"
        },
        "id": "IyYA_iloPflG",
        "outputId": "bdc89ca8-c071-4720-99e7-83614bece0f7"
      },
      "outputs": [
        {
          "name": "stdout",
          "output_type": "stream",
          "text": [
            "       topicId identifier          docId  ranking  similarityScore systemName\n",
            "0          401         Q0  LA052590-0090        1         0.518393    ric8dpn\n",
            "1          401         Q0    FBIS3-19951        2         0.447785    ric8dpn\n",
            "2          401         Q0    FBIS3-59436        3         0.439529    ric8dpn\n",
            "3          401         Q0    FBIS4-68774        4         0.434339    ric8dpn\n",
            "4          401         Q0     FBIS4-9582        5         0.424880    ric8dpn\n",
            "...        ...        ...            ...      ...              ...        ...\n",
            "49995      450         Q0    FBIS3-34583      996         0.327118    ric8dpn\n",
            "49996      450         Q0  LA112090-0166      997         0.327041    ric8dpn\n",
            "49997      450         Q0  LA110490-0183      998         0.326964    ric8dpn\n",
            "49998      450         Q0    FBIS4-35559      999         0.326920    ric8dpn\n",
            "49999      450         Q0    FBIS4-38038     1000         0.326914    ric8dpn\n",
            "\n",
            "[50000 rows x 6 columns]\n"
          ]
        }
      ],
      "source": [
        "# Reassign the rank within each topicid group\n",
        "df['ranking'] = df.groupby('topicId').cumcount() + 1\n",
        "\n",
        "print(df)"
      ]
    },
    {
      "cell_type": "code",
      "execution_count": 16,
      "metadata": {
        "id": "d-6PT55MUTPQ"
      },
      "outputs": [],
      "source": [
        "# Save the cleaned DataFrame back to a file\n",
        "save_path = \"D:\\VSCODE PROJECT\\IR\\cleaned_dataset\\cleaned_input.ric8dpn.txt\"\n",
        "\n",
        "df.to_csv(save_path, sep=\"\\t\", header=False, index=False)"
      ]
    }
  ],
  "metadata": {
    "colab": {
      "provenance": []
    },
    "kernelspec": {
      "display_name": "Python 3",
      "name": "python3"
    },
    "language_info": {
      "codemirror_mode": {
        "name": "ipython",
        "version": 3
      },
      "file_extension": ".py",
      "mimetype": "text/x-python",
      "name": "python",
      "nbconvert_exporter": "python",
      "pygments_lexer": "ipython3",
      "version": "3.11.7"
    }
  },
  "nbformat": 4,
  "nbformat_minor": 0
}
