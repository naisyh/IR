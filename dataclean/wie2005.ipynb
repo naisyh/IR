{
 "cells": [
  {
   "cell_type": "code",
   "execution_count": 361,
   "metadata": {},
   "outputs": [],
   "source": [
    "import pandas as pd"
   ]
  },
  {
   "cell_type": "markdown",
   "metadata": {},
   "source": [
    "System Name: ok8amxc"
   ]
  },
  {
   "cell_type": "code",
   "execution_count": 362,
   "metadata": {},
   "outputs": [
    {
     "name": "stdout",
     "output_type": "stream",
     "text": [
      "       topicId identifier        docId  ranking  similarityScore systemName\n",
      "0          401         Q0  FBIS4-18182        0         3.590320    ok8amxc\n",
      "1          401         Q0  FBIS3-18916        1         3.449360    ok8amxc\n",
      "2          401         Q0  FBIS3-18833        2         3.408860    ok8amxc\n",
      "3          401         Q0  FBIS3-39117        3         3.253320    ok8amxc\n",
      "4          401         Q0  FBIS3-17077        4         3.154300    ok8amxc\n",
      "...        ...        ...          ...      ...              ...        ...\n",
      "49995      450         Q0  FBIS3-33693      995         0.855519    ok8amxc\n",
      "49996      450         Q0   FT933-6130      996         0.855423    ok8amxc\n",
      "49997      450         Q0  FBIS4-35729      997         0.855387    ok8amxc\n",
      "49998      450         Q0  FBIS3-34652      998         0.854756    ok8amxc\n",
      "49999      450         Q0  FT944-16013      999         0.854586    ok8amxc\n",
      "\n",
      "[50000 rows x 6 columns]\n"
     ]
    }
   ],
   "source": [
    "# Define the path to your QREL file\n",
    "data_path1 = 'D:\\VSCODE PROJECT\\IR\\dataset\\input.ok8amxc'\n",
    "\n",
    "# Define column names for the DataFrame\n",
    "column_names = ['topicId', 'identifier', 'docId', 'ranking', 'similarityScore', 'systemName']\n",
    "\n",
    "# Read the QREL file into a DataFrame\n",
    "df1 = pd.read_csv(data_path1, sep='\\t', header=None, names=column_names)\n",
    "\n",
    "# Display the first few rows of the DataFrame to verify\n",
    "print(df1)"
   ]
  },
  {
   "cell_type": "code",
   "execution_count": 363,
   "metadata": {},
   "outputs": [
    {
     "name": "stdout",
     "output_type": "stream",
     "text": [
      "topicId\n",
      "401    1000\n",
      "402    1000\n",
      "403    1000\n",
      "404    1000\n",
      "405    1000\n",
      "406    1000\n",
      "407    1000\n",
      "408    1000\n",
      "409    1000\n",
      "410    1000\n",
      "411    1000\n",
      "412    1000\n",
      "413    1000\n",
      "414    1000\n",
      "415    1000\n",
      "416    1000\n",
      "417    1000\n",
      "418    1000\n",
      "419    1000\n",
      "420    1000\n",
      "421    1000\n",
      "422    1000\n",
      "423    1000\n",
      "424    1000\n",
      "425    1000\n",
      "426    1000\n",
      "427    1000\n",
      "428    1000\n",
      "429    1000\n",
      "430    1000\n",
      "431    1000\n",
      "432    1000\n",
      "433    1000\n",
      "434    1000\n",
      "435    1000\n",
      "436    1000\n",
      "437    1000\n",
      "438    1000\n",
      "439    1000\n",
      "440    1000\n",
      "441    1000\n",
      "442    1000\n",
      "443    1000\n",
      "444    1000\n",
      "445    1000\n",
      "446    1000\n",
      "447    1000\n",
      "448    1000\n",
      "449    1000\n",
      "450    1000\n",
      "Name: count, dtype: int64\n"
     ]
    }
   ],
   "source": [
    "# Count the number of rows per topicid\n",
    "topicId_counts = df1['topicId'].value_counts().sort_index()\n",
    "print(topicId_counts)"
   ]
  },
  {
   "cell_type": "code",
   "execution_count": 364,
   "metadata": {},
   "outputs": [
    {
     "name": "stdout",
     "output_type": "stream",
     "text": [
      "Count of null values in each column: \n",
      "topicId            0\n",
      "identifier         0\n",
      "docId              0\n",
      "ranking            0\n",
      "similarityScore    0\n",
      "systemName         0\n",
      "dtype: int64\n",
      "Ranking is in ascending order within each topicId: True\n",
      "SimilarityScore is in descending order within each topicId: True\n"
     ]
    }
   ],
   "source": [
    "# Check null value\n",
    "print( \"Count of null values in each column: \")\n",
    "print(df1.isnull().sum())\n",
    "\n",
    "# Check if 'Ranking' is in ascending order within each 'topicId' group\n",
    "is_ascending_ranking = df1.groupby('topicId')['ranking'].apply(lambda x: x.is_monotonic_increasing).all()\n",
    "print(\"Ranking is in ascending order within each topicId:\", is_ascending_ranking)\n",
    "\n",
    "# Check if 'SimilarityScore' is in descending order within each 'topicId' group\n",
    "is_descending_similarity = df1.groupby('topicId')['similarityScore'].apply(lambda x: x.is_monotonic_decreasing).all()\n",
    "print(\"SimilarityScore is in descending order within each topicId:\", is_descending_similarity)"
   ]
  },
  {
   "cell_type": "markdown",
   "metadata": {},
   "source": [
    "Data type of each column: \n",
    "topicId              int64\n",
    "identifier          object\n",
    "docId               object\n",
    "ranking              int64\n",
    "similarityScore    float64\n",
    "systemName          object"
   ]
  },
  {
   "cell_type": "code",
   "execution_count": 365,
   "metadata": {},
   "outputs": [
    {
     "name": "stdout",
     "output_type": "stream",
     "text": [
      "       topicId identifier        docId  ranking  similarityScore systemName\n",
      "0          401         Q0  FBIS4-18182        1         3.590320    ok8amxc\n",
      "1          401         Q0  FBIS3-18916        2         3.449360    ok8amxc\n",
      "2          401         Q0  FBIS3-18833        3         3.408860    ok8amxc\n",
      "3          401         Q0  FBIS3-39117        4         3.253320    ok8amxc\n",
      "4          401         Q0  FBIS3-17077        5         3.154300    ok8amxc\n",
      "...        ...        ...          ...      ...              ...        ...\n",
      "49995      450         Q0  FBIS3-33693      996         0.855519    ok8amxc\n",
      "49996      450         Q0   FT933-6130      997         0.855423    ok8amxc\n",
      "49997      450         Q0  FBIS4-35729      998         0.855387    ok8amxc\n",
      "49998      450         Q0  FBIS3-34652      999         0.854756    ok8amxc\n",
      "49999      450         Q0  FT944-16013     1000         0.854586    ok8amxc\n",
      "\n",
      "[50000 rows x 6 columns]\n"
     ]
    }
   ],
   "source": [
    "# Reassign the rank within each topicid group\n",
    "df1['ranking'] = df1.groupby('topicId').cumcount() + 1\n",
    "\n",
    "print(df1)"
   ]
  },
  {
   "cell_type": "code",
   "execution_count": 366,
   "metadata": {},
   "outputs": [],
   "source": [
    "# Save the cleaned DataFrame back to a file\n",
    "save_path = \"D:\\VSCODE PROJECT\\IR\\cleaned\\ok8amxc.ok8amxc.csv\"\n",
    "\n",
    "df1.to_csv(save_path, sep=\",\", header=False, index=False)"
   ]
  },
  {
   "cell_type": "markdown",
   "metadata": {},
   "source": [
    "System name:  pir9Aa1"
   ]
  },
  {
   "cell_type": "code",
   "execution_count": 367,
   "metadata": {},
   "outputs": [
    {
     "name": "stdout",
     "output_type": "stream",
     "text": [
      "       topicId identifier          docId  ranking  similarityScore systemName\n",
      "0          401         Q0     FBIS4-9582        0           4.1810    pir9Aa1\n",
      "1          401         Q0    FBIS4-31715        1           4.0127    pir9Aa1\n",
      "2          401         Q0    FT942-15501        2           3.4143    pir9Aa1\n",
      "3          401         Q0     FBIS3-4201        3           3.3311    pir9Aa1\n",
      "4          401         Q0    FBIS4-18182        4           3.3238    pir9Aa1\n",
      "...        ...        ...            ...      ...              ...        ...\n",
      "49995      450         Q0    FBIS3-13360      995           3.0238    pir9Aa1\n",
      "49996      450         Q0    FBIS4-17507      996           3.0236    pir9Aa1\n",
      "49997      450         Q0    FBIS3-19376      997           3.0234    pir9Aa1\n",
      "49998      450         Q0    FT921-14974      998           3.0221    pir9Aa1\n",
      "49999      450         Q0  LA092089-0141      999           3.0218    pir9Aa1\n",
      "\n",
      "[50000 rows x 6 columns]\n"
     ]
    }
   ],
   "source": [
    "# Define the path to your QREL file\n",
    "data_path2 = 'D:\\VSCODE PROJECT\\IR\\dataset\\input.pir9Aa1'\n",
    "\n",
    "# Define column names for the DataFrame\n",
    "column_names = ['topicId', 'identifier', 'docId', 'ranking', 'similarityScore', 'systemName']\n",
    "\n",
    "# Read the QREL file into a DataFrame\n",
    "df2 = pd.read_csv(data_path2, sep='\\t', header=None, names=column_names)\n",
    "\n",
    "# Display the first few rows of the DataFrame to verify\n",
    "print(df2)"
   ]
  },
  {
   "cell_type": "code",
   "execution_count": 368,
   "metadata": {},
   "outputs": [
    {
     "name": "stdout",
     "output_type": "stream",
     "text": [
      "topicId\n",
      "401    1000\n",
      "402    1000\n",
      "403    1000\n",
      "404    1000\n",
      "405    1000\n",
      "406    1000\n",
      "407    1000\n",
      "408    1000\n",
      "409    1000\n",
      "410    1000\n",
      "411    1000\n",
      "412    1000\n",
      "413    1000\n",
      "414    1000\n",
      "415    1000\n",
      "416    1000\n",
      "417    1000\n",
      "418    1000\n",
      "419    1000\n",
      "420    1000\n",
      "421    1000\n",
      "422    1000\n",
      "423    1000\n",
      "424    1000\n",
      "425    1000\n",
      "426    1000\n",
      "427    1000\n",
      "428    1000\n",
      "429    1000\n",
      "430    1000\n",
      "431    1000\n",
      "432    1000\n",
      "433    1000\n",
      "434    1000\n",
      "435    1000\n",
      "436    1000\n",
      "437    1000\n",
      "438    1000\n",
      "439    1000\n",
      "440    1000\n",
      "441    1000\n",
      "442    1000\n",
      "443    1000\n",
      "444    1000\n",
      "445    1000\n",
      "446    1000\n",
      "447    1000\n",
      "448    1000\n",
      "449    1000\n",
      "450    1000\n",
      "Name: count, dtype: int64\n"
     ]
    }
   ],
   "source": [
    "# Count the number of rows per topicid\n",
    "topicId_counts = df2['topicId'].value_counts().sort_index()\n",
    "print(topicId_counts)"
   ]
  },
  {
   "cell_type": "code",
   "execution_count": 369,
   "metadata": {},
   "outputs": [
    {
     "name": "stdout",
     "output_type": "stream",
     "text": [
      "Count of null values in each column: \n",
      "topicId            0\n",
      "identifier         0\n",
      "docId              0\n",
      "ranking            0\n",
      "similarityScore    0\n",
      "systemName         0\n",
      "dtype: int64\n",
      "Ranking is in ascending order within each topicId: False\n",
      "SimilarityScore is in descending order within each topicId: True\n"
     ]
    }
   ],
   "source": [
    "# Check null value\n",
    "print( \"Count of null values in each column: \")\n",
    "print(df2.isnull().sum())\n",
    "\n",
    "# Check if 'Ranking' is in ascending order within each 'topicId' group\n",
    "is_ascending_ranking = df2.groupby('topicId')['ranking'].apply(lambda x: x.is_monotonic_increasing).all()\n",
    "print(\"Ranking is in ascending order within each topicId:\", is_ascending_ranking)\n",
    "\n",
    "# Check if 'SimilarityScore' is in descending order within each 'topicId' group\n",
    "is_descending_similarity = df2.groupby('topicId')['similarityScore'].apply(lambda x: x.is_monotonic_decreasing).all()\n",
    "print(\"SimilarityScore is in descending order within each topicId:\", is_descending_similarity)"
   ]
  },
  {
   "cell_type": "code",
   "execution_count": 370,
   "metadata": {},
   "outputs": [
    {
     "name": "stdout",
     "output_type": "stream",
     "text": [
      "       topicId identifier          docId  ranking  similarityScore systemName\n",
      "0          401         Q0     FBIS4-9582        1           4.1810    pir9Aa1\n",
      "1          401         Q0    FBIS4-31715        2           4.0127    pir9Aa1\n",
      "2          401         Q0    FT942-15501        3           3.4143    pir9Aa1\n",
      "3          401         Q0     FBIS3-4201        4           3.3311    pir9Aa1\n",
      "4          401         Q0    FBIS4-18182        5           3.3238    pir9Aa1\n",
      "...        ...        ...            ...      ...              ...        ...\n",
      "49995      450         Q0    FBIS3-13360      996           3.0238    pir9Aa1\n",
      "49996      450         Q0    FBIS4-17507      997           3.0236    pir9Aa1\n",
      "49997      450         Q0    FBIS3-19376      998           3.0234    pir9Aa1\n",
      "49998      450         Q0    FT921-14974      999           3.0221    pir9Aa1\n",
      "49999      450         Q0  LA092089-0141     1000           3.0218    pir9Aa1\n",
      "\n",
      "[50000 rows x 6 columns]\n"
     ]
    }
   ],
   "source": [
    "# Sort the DataFrame by topicid and similarityscore in descending order\n",
    "df2 = df2.sort_values(by=[\"topicId\", \"similarityScore\"], ascending=[True, False])\n",
    "\n",
    "# Reassign the rank within each topicid group\n",
    "df2['ranking'] = df2.groupby('topicId').cumcount() + 1\n",
    "\n",
    "print(df2)"
   ]
  },
  {
   "cell_type": "code",
   "execution_count": 371,
   "metadata": {},
   "outputs": [],
   "source": [
    "# Save the cleaned DataFrame back to a file\n",
    "save_path = \"D:\\VSCODE PROJECT\\IR\\cleaned\\pir9Aa1.pir9Aa1.csv\"\n",
    "\n",
    "df2.to_csv(save_path, sep=\",\", header=False, index=False)"
   ]
  },
  {
   "cell_type": "markdown",
   "metadata": {},
   "source": [
    "System Name: plt8ah2"
   ]
  },
  {
   "cell_type": "code",
   "execution_count": 372,
   "metadata": {},
   "outputs": [
    {
     "name": "stdout",
     "output_type": "stream",
     "text": [
      "       topicId identifier          docId  ranking  similarityScore systemName\n",
      "0          401         Q0     FBIS4-9582        0        13.814581    plt8ah2\n",
      "1          401         Q0    FT932-10861        1        13.342205    plt8ah2\n",
      "2          401         Q0    FBIS4-18182        2        12.389992    plt8ah2\n",
      "3          401         Q0     FBIS3-9104        3        12.071641    plt8ah2\n",
      "4          401         Q0    FT941-15167        4        11.571873    plt8ah2\n",
      "...        ...        ...            ...      ...              ...        ...\n",
      "49993      450         Q0    FBIS4-13170      995        10.328714    plt8ah2\n",
      "49994      450         Q0  LA082190-0080      996        10.327399    plt8ah2\n",
      "49995      450         Q0  LA123189-0117      997        10.324968    plt8ah2\n",
      "49996      450         Q0  LA102490-0024      998        10.324179    plt8ah2\n",
      "49997      450         Q0    FBIS4-11642      999        10.323837    plt8ah2\n",
      "\n",
      "[49998 rows x 6 columns]\n"
     ]
    }
   ],
   "source": [
    "# Define the path to your QREL file\n",
    "data_path3 = 'D:\\VSCODE PROJECT\\IR\\dataset\\input.plt8ah2'\n",
    "\n",
    "# Define column names for the DataFrame\n",
    "column_names = ['topicId', 'identifier', 'docId', 'ranking', 'similarityScore', 'systemName']\n",
    "\n",
    "# Read the QREL file into a DataFrame\n",
    "df3 = pd.read_csv(data_path3, sep='\\t', header=None, names=column_names)\n",
    "\n",
    "# Display the first few rows of the DataFrame to verify\n",
    "print(df3)"
   ]
  },
  {
   "cell_type": "code",
   "execution_count": 373,
   "metadata": {},
   "outputs": [
    {
     "name": "stdout",
     "output_type": "stream",
     "text": [
      "topicId\n",
      "401    1000\n",
      "402    1000\n",
      "403    1000\n",
      "404    1000\n",
      "405    1000\n",
      "406    1000\n",
      "407    1000\n",
      "408    1000\n",
      "409    1000\n",
      "410    1000\n",
      "411    1000\n",
      "412    1000\n",
      "413    1000\n",
      "414    1000\n",
      "415    1000\n",
      "416     999\n",
      "417    1000\n",
      "418    1000\n",
      "419    1000\n",
      "420    1000\n",
      "421    1000\n",
      "422    1000\n",
      "423    1000\n",
      "424    1000\n",
      "425    1000\n",
      "426    1000\n",
      "427    1000\n",
      "428    1000\n",
      "429    1000\n",
      "430    1000\n",
      "431    1000\n",
      "432    1000\n",
      "433    1000\n",
      "434     999\n",
      "435    1000\n",
      "436    1000\n",
      "437    1000\n",
      "438    1000\n",
      "439    1000\n",
      "440    1000\n",
      "441    1000\n",
      "442    1000\n",
      "443    1000\n",
      "444    1000\n",
      "445    1000\n",
      "446    1000\n",
      "447    1000\n",
      "448    1000\n",
      "449    1000\n",
      "450    1000\n",
      "Name: count, dtype: int64\n"
     ]
    }
   ],
   "source": [
    "# Count the number of rows per topicid\n",
    "topicId_counts = df3['topicId'].value_counts().sort_index()\n",
    "print(topicId_counts)"
   ]
  },
  {
   "cell_type": "code",
   "execution_count": 374,
   "metadata": {},
   "outputs": [
    {
     "name": "stdout",
     "output_type": "stream",
     "text": [
      "Count of null values in each column: \n",
      "topicId            0\n",
      "identifier         0\n",
      "docId              0\n",
      "ranking            0\n",
      "similarityScore    0\n",
      "systemName         0\n",
      "dtype: int64\n",
      "Ranking is in ascending order within each topicId: False\n",
      "SimilarityScore is in descending order within each topicId: True\n"
     ]
    }
   ],
   "source": [
    "# Check null value\n",
    "print( \"Count of null values in each column: \")\n",
    "print(df3.isnull().sum())\n",
    "\n",
    "# Check if 'Ranking' is in ascending order within each 'topicId' group\n",
    "is_ascending_ranking = df3.groupby('topicId')['ranking'].apply(lambda x: x.is_monotonic_increasing).all()\n",
    "print(\"Ranking is in ascending order within each topicId:\", is_ascending_ranking)\n",
    "\n",
    "# Check if 'SimilarityScore' is in descending order within each 'topicId' group\n",
    "is_descending_similarity = df3.groupby('topicId')['similarityScore'].apply(lambda x: x.is_monotonic_decreasing).all()\n",
    "print(\"SimilarityScore is in descending order within each topicId:\", is_descending_similarity)"
   ]
  },
  {
   "cell_type": "code",
   "execution_count": 375,
   "metadata": {},
   "outputs": [
    {
     "name": "stdout",
     "output_type": "stream",
     "text": [
      "       topicId identifier          docId  ranking  similarityScore systemName\n",
      "0          401         Q0     FBIS4-9582        1        13.814581    plt8ah2\n",
      "1          401         Q0    FT932-10861        2        13.342205    plt8ah2\n",
      "2          401         Q0    FBIS4-18182        3        12.389992    plt8ah2\n",
      "3          401         Q0     FBIS3-9104        4        12.071641    plt8ah2\n",
      "4          401         Q0    FT941-15167        5        11.571873    plt8ah2\n",
      "...        ...        ...            ...      ...              ...        ...\n",
      "49993      450         Q0    FBIS4-13170      996        10.328714    plt8ah2\n",
      "49994      450         Q0  LA082190-0080      997        10.327399    plt8ah2\n",
      "49995      450         Q0  LA123189-0117      998        10.324968    plt8ah2\n",
      "49996      450         Q0  LA102490-0024      999        10.324179    plt8ah2\n",
      "49997      450         Q0    FBIS4-11642     1000        10.323837    plt8ah2\n",
      "\n",
      "[49998 rows x 6 columns]\n"
     ]
    }
   ],
   "source": [
    "# Sort the DataFrame by topicid and similarityscore in descending order\n",
    "df3 = df3.sort_values(by=[\"topicId\", \"similarityScore\"], ascending=[True, False])\n",
    "\n",
    "# Reassign the rank within each topicid group\n",
    "df3['ranking'] = df3.groupby('topicId').cumcount() + 1\n",
    "\n",
    "print(df3)"
   ]
  },
  {
   "cell_type": "code",
   "execution_count": 376,
   "metadata": {},
   "outputs": [],
   "source": [
    "# Save the cleaned DataFrame back to a file\n",
    "save_path = \"D:\\VSCODE PROJECT\\IR\\cleaned\\plt8ah2.plt8ah2.csv\"\n",
    "\n",
    "df3.to_csv(save_path, sep=\",\", header=False, index=False)"
   ]
  },
  {
   "cell_type": "markdown",
   "metadata": {},
   "source": [
    "System Name: UB99T"
   ]
  },
  {
   "cell_type": "code",
   "execution_count": 377,
   "metadata": {},
   "outputs": [
    {
     "name": "stdout",
     "output_type": "stream",
     "text": [
      "       topicId identifier          docId  ranking  similarityScore systemName\n",
      "0          401         Q0    FBIS4-25684        0         177.0670      UB99T\n",
      "1          401         Q0    FBIS4-22981        1         139.5210      UB99T\n",
      "2          401         Q0    FBIS4-68773        2         120.6760      UB99T\n",
      "3          401         Q0    FBIS3-61091        3         110.9000      UB99T\n",
      "4          401         Q0     FT941-3931        4          85.2391      UB99T\n",
      "...        ...        ...            ...      ...              ...        ...\n",
      "49995      450         Q0  LA051090-0085      803           0.0700      UB99T\n",
      "49996      450         Q0  LA051090-0102      971           0.0700      UB99T\n",
      "49997      450         Q0  LA051190-0035      703           0.0700      UB99T\n",
      "49998      450         Q0  LA051290-0032      720           0.0700      UB99T\n",
      "49999      450         Q0  LA051489-0029      882           0.0700      UB99T\n",
      "\n",
      "[50000 rows x 6 columns]\n"
     ]
    }
   ],
   "source": [
    "# Define the path to your QREL file\n",
    "data_path4 = 'D:\\VSCODE PROJECT\\IR\\dataset\\input.UB99T'\n",
    "\n",
    "# Define column names for the DataFrame\n",
    "column_names = ['topicId', 'identifier', 'docId', 'ranking', 'similarityScore', 'systemName']\n",
    "\n",
    "# Read the QREL file into a DataFrame\n",
    "df4 = pd.read_csv(data_path4, sep='\\t', header=None, names=column_names)\n",
    "\n",
    "# Display the first few rows of the DataFrame to verify\n",
    "print(df4)"
   ]
  },
  {
   "cell_type": "code",
   "execution_count": 378,
   "metadata": {},
   "outputs": [
    {
     "name": "stdout",
     "output_type": "stream",
     "text": [
      "topicId\n",
      "401    1000\n",
      "402    1000\n",
      "403    1000\n",
      "404    1000\n",
      "405    1000\n",
      "406    1000\n",
      "407    1000\n",
      "408    1000\n",
      "409    1000\n",
      "410    1000\n",
      "411    1000\n",
      "412    1000\n",
      "413    1000\n",
      "414    1000\n",
      "415    1000\n",
      "416    1000\n",
      "417    1000\n",
      "418    1000\n",
      "419    1000\n",
      "420    1000\n",
      "421    1000\n",
      "422    1000\n",
      "423    1000\n",
      "424    1000\n",
      "425    1000\n",
      "426    1000\n",
      "427    1000\n",
      "428    1000\n",
      "429    1000\n",
      "430    1000\n",
      "431    1000\n",
      "432    1000\n",
      "433    1000\n",
      "434    1000\n",
      "435    1000\n",
      "436    1000\n",
      "437    1000\n",
      "438    1000\n",
      "439    1000\n",
      "440    1000\n",
      "441    1000\n",
      "442    1000\n",
      "443    1000\n",
      "444    1000\n",
      "445    1000\n",
      "446    1000\n",
      "447    1000\n",
      "448    1000\n",
      "449    1000\n",
      "450    1000\n",
      "Name: count, dtype: int64\n"
     ]
    }
   ],
   "source": [
    "# Count the number of rows per topicid\n",
    "topicId_counts = df4['topicId'].value_counts().sort_index()\n",
    "print(topicId_counts)"
   ]
  },
  {
   "cell_type": "code",
   "execution_count": 379,
   "metadata": {},
   "outputs": [
    {
     "name": "stdout",
     "output_type": "stream",
     "text": [
      "Count of null values in each column: \n",
      "topicId            0\n",
      "identifier         0\n",
      "docId              0\n",
      "ranking            0\n",
      "similarityScore    0\n",
      "systemName         0\n",
      "dtype: int64\n",
      "Ranking is in ascending order within each topicId: False\n",
      "SimilarityScore is in descending order within each topicId: False\n"
     ]
    }
   ],
   "source": [
    "# Check null value\n",
    "print( \"Count of null values in each column: \")\n",
    "print(df4.isnull().sum())\n",
    "\n",
    "# Check if 'Ranking' is in ascending order within each 'topicId' group\n",
    "is_ascending_ranking = df4.groupby('topicId')['ranking'].apply(lambda x: x.is_monotonic_increasing).all()\n",
    "print(\"Ranking is in ascending order within each topicId:\", is_ascending_ranking)\n",
    "\n",
    "# Check if 'SimilarityScore' is in descending order within each 'topicId' group\n",
    "is_descending_similarity = df4.groupby('topicId')['similarityScore'].apply(lambda x: x.is_monotonic_decreasing).all()\n",
    "print(\"SimilarityScore is in descending order within each topicId:\", is_descending_similarity)"
   ]
  },
  {
   "cell_type": "code",
   "execution_count": 380,
   "metadata": {},
   "outputs": [
    {
     "name": "stdout",
     "output_type": "stream",
     "text": [
      "       topicId identifier          docId  ranking  similarityScore systemName\n",
      "0          401         Q0    FBIS4-25684        1         177.0670      UB99T\n",
      "1          401         Q0    FBIS4-22981        2         139.5210      UB99T\n",
      "2          401         Q0    FBIS4-68773        3         120.6760      UB99T\n",
      "3          401         Q0    FBIS3-61091        4         110.9000      UB99T\n",
      "4          401         Q0     FT941-3931        5          85.2391      UB99T\n",
      "...        ...        ...            ...      ...              ...        ...\n",
      "49995      450         Q0  LA051090-0085      996           0.0700      UB99T\n",
      "49996      450         Q0  LA051090-0102      997           0.0700      UB99T\n",
      "49997      450         Q0  LA051190-0035      998           0.0700      UB99T\n",
      "49998      450         Q0  LA051290-0032      999           0.0700      UB99T\n",
      "49999      450         Q0  LA051489-0029     1000           0.0700      UB99T\n",
      "\n",
      "[50000 rows x 6 columns]\n"
     ]
    }
   ],
   "source": [
    "# Convert the similarityscore to a numeric type if it's not already\n",
    "df4['similarityScore'] = pd.to_numeric(df4['similarityScore'])\n",
    "\n",
    "# Sort the DataFrame by topicid and similarityscore in descending order\n",
    "df4 = df4.sort_values(by=[\"topicId\", \"similarityScore\"], ascending=[True, False])\n",
    "\n",
    "# Reassign the rank within each topicid group\n",
    "df4['ranking'] = df4.groupby('topicId').cumcount() + 1\n",
    "\n",
    "print(df4)"
   ]
  },
  {
   "cell_type": "code",
   "execution_count": 381,
   "metadata": {},
   "outputs": [],
   "source": [
    "# Save the cleaned DataFrame back to a file\n",
    "save_path = \"D:\\VSCODE PROJECT\\IR\\cleaned\\input_UB99T.UB99T.csv\"\n",
    "\n",
    "df4.to_csv(save_path, sep=\",\", header=False, index=False)"
   ]
  },
  {
   "cell_type": "markdown",
   "metadata": {},
   "source": [
    "System Name: ric8dpn"
   ]
  },
  {
   "cell_type": "code",
   "execution_count": 382,
   "metadata": {},
   "outputs": [
    {
     "name": "stdout",
     "output_type": "stream",
     "text": [
      "       topicId identifier          docId  ranking  similarityScore systemName\n",
      "0          401         Q0  LA052590-0090        1         0.518393    ric8dpn\n",
      "1          401         Q0    FBIS3-19951        2         0.447785    ric8dpn\n",
      "2          401         Q0    FBIS3-59436        3         0.439529    ric8dpn\n",
      "3          401         Q0    FBIS4-68774        4         0.434339    ric8dpn\n",
      "4          401         Q0     FBIS4-9582        5         0.424880    ric8dpn\n",
      "...        ...        ...            ...      ...              ...        ...\n",
      "49995      450         Q0    FBIS3-34583      996         0.327118    ric8dpn\n",
      "49996      450         Q0  LA112090-0166      997         0.327041    ric8dpn\n",
      "49997      450         Q0  LA110490-0183      998         0.326964    ric8dpn\n",
      "49998      450         Q0    FBIS4-35559      999         0.326920    ric8dpn\n",
      "49999      450         Q0    FBIS4-38038     1000         0.326914    ric8dpn\n",
      "\n",
      "[50000 rows x 6 columns]\n"
     ]
    }
   ],
   "source": [
    "# Define the path to your QREL file\n",
    "data_path5 = 'D:\\VSCODE PROJECT\\IR\\dataset\\input.ric8dpn'\n",
    "\n",
    "# Define column names for the DataFrame\n",
    "column_names = ['topicId', 'identifier', 'docId', 'ranking', 'similarityScore', 'systemName']\n",
    "\n",
    "# Read the QREL file into a DataFrame\n",
    "df5 = pd.read_csv(data_path5, sep='\\t', header=None, names=column_names)\n",
    "\n",
    "# Display the first few rows of the DataFrame to verify\n",
    "print(df5)"
   ]
  },
  {
   "cell_type": "code",
   "execution_count": 383,
   "metadata": {},
   "outputs": [
    {
     "name": "stdout",
     "output_type": "stream",
     "text": [
      "topicId\n",
      "401    1000\n",
      "402    1000\n",
      "403    1000\n",
      "404    1000\n",
      "405    1000\n",
      "406    1000\n",
      "407    1000\n",
      "408    1000\n",
      "409    1000\n",
      "410    1000\n",
      "411    1000\n",
      "412    1000\n",
      "413    1000\n",
      "414    1000\n",
      "415    1000\n",
      "416    1000\n",
      "417    1000\n",
      "418    1000\n",
      "419    1000\n",
      "420    1000\n",
      "421    1000\n",
      "422    1000\n",
      "423    1000\n",
      "424    1000\n",
      "425    1000\n",
      "426    1000\n",
      "427    1000\n",
      "428    1000\n",
      "429    1000\n",
      "430    1000\n",
      "431    1000\n",
      "432    1000\n",
      "433    1000\n",
      "434    1000\n",
      "435    1000\n",
      "436    1000\n",
      "437    1000\n",
      "438    1000\n",
      "439    1000\n",
      "440    1000\n",
      "441    1000\n",
      "442    1000\n",
      "443    1000\n",
      "444    1000\n",
      "445    1000\n",
      "446    1000\n",
      "447    1000\n",
      "448    1000\n",
      "449    1000\n",
      "450    1000\n",
      "Name: count, dtype: int64\n"
     ]
    }
   ],
   "source": [
    "# Count the number of rows per topicid\n",
    "topicId_counts = df5['topicId'].value_counts().sort_index()\n",
    "print(topicId_counts)"
   ]
  },
  {
   "cell_type": "code",
   "execution_count": 384,
   "metadata": {},
   "outputs": [
    {
     "name": "stdout",
     "output_type": "stream",
     "text": [
      "Count of null values in each column: \n",
      "topicId            0\n",
      "identifier         0\n",
      "docId              0\n",
      "ranking            0\n",
      "similarityScore    0\n",
      "systemName         0\n",
      "dtype: int64\n",
      "Ranking is in ascending order within each topicId: False\n",
      "SimilarityScore is in descending order within each topicId: True\n"
     ]
    }
   ],
   "source": [
    "# Check null value\n",
    "print( \"Count of null values in each column: \")\n",
    "print(df5.isnull().sum())\n",
    "\n",
    "# Check if 'Ranking' is in ascending order within each 'topicId' group\n",
    "is_ascending_ranking = df5.groupby('topicId')['ranking'].apply(lambda x: x.is_monotonic_increasing).all()\n",
    "print(\"Ranking is in ascending order within each topicId:\", is_ascending_ranking)\n",
    "\n",
    "# Check if 'SimilarityScore' is in descending order within each 'topicId' group\n",
    "is_descending_similarity = df5.groupby('topicId')['similarityScore'].apply(lambda x: x.is_monotonic_decreasing).all()\n",
    "print(\"SimilarityScore is in descending order within each topicId:\", is_descending_similarity)"
   ]
  },
  {
   "cell_type": "code",
   "execution_count": 385,
   "metadata": {},
   "outputs": [
    {
     "name": "stdout",
     "output_type": "stream",
     "text": [
      "       topicId identifier          docId  ranking  similarityScore systemName\n",
      "0          401         Q0  LA052590-0090        1         0.518393    ric8dpn\n",
      "1          401         Q0    FBIS3-19951        2         0.447785    ric8dpn\n",
      "2          401         Q0    FBIS3-59436        3         0.439529    ric8dpn\n",
      "3          401         Q0    FBIS4-68774        4         0.434339    ric8dpn\n",
      "4          401         Q0     FBIS4-9582        5         0.424880    ric8dpn\n",
      "...        ...        ...            ...      ...              ...        ...\n",
      "49995      450         Q0    FBIS3-34583      996         0.327118    ric8dpn\n",
      "49996      450         Q0  LA112090-0166      997         0.327041    ric8dpn\n",
      "49997      450         Q0  LA110490-0183      998         0.326964    ric8dpn\n",
      "49998      450         Q0    FBIS4-35559      999         0.326920    ric8dpn\n",
      "49999      450         Q0    FBIS4-38038     1000         0.326914    ric8dpn\n",
      "\n",
      "[50000 rows x 6 columns]\n"
     ]
    }
   ],
   "source": [
    "# Sort the DataFrame by topicid and similarityscore in descending order\n",
    "df5 = df5.sort_values(by=[\"topicId\", \"similarityScore\"], ascending=[True, False])\n",
    "\n",
    "# Reassign the rank within each topicid group\n",
    "df5['ranking'] = df5.groupby('topicId').cumcount() + 1\n",
    "\n",
    "print(df5)"
   ]
  },
  {
   "cell_type": "code",
   "execution_count": 386,
   "metadata": {},
   "outputs": [],
   "source": [
    "# Save the cleaned DataFrame back to a file\n",
    "save_path = \"D:\\VSCODE PROJECT\\IR\\cleaned\\input_ric8dpn.ric8dpn.csv\"\n",
    "\n",
    "df5.to_csv(save_path, sep=\",\", header=False, index=False)"
   ]
  },
  {
   "cell_type": "markdown",
   "metadata": {},
   "source": [
    "System Name: apl8c221"
   ]
  },
  {
   "cell_type": "code",
   "execution_count": 387,
   "metadata": {},
   "outputs": [
    {
     "name": "stdout",
     "output_type": "stream",
     "text": [
      "       TermNum Ignore     FileName  Rank  AccuracyScore SystemName\n",
      "1          401     Q0   FT942-5131     1         4.3846   apl8c221\n",
      "0          401     Q0   FT942-5121     2         4.3846   apl8c221\n",
      "2          401     Q0   FT924-7558     3         3.6418   apl8c221\n",
      "3          401     Q0   FT924-5091     4         3.1765   apl8c221\n",
      "4          401     Q0  FT931-10513     5         2.9957   apl8c221\n",
      "...        ...    ...          ...   ...            ...        ...\n",
      "49995      450     Q0  FBIS4-36140   996         0.1278   apl8c221\n",
      "49996      450     Q0  FBIS4-59362   997         0.1269   apl8c221\n",
      "49998      450     Q0  FBIS4-58274   998         0.1266   apl8c221\n",
      "49999      450     Q0  FBIS4-58409   999         0.1266   apl8c221\n",
      "49997      450     Q0   FBIS4-3988  1000         0.1266   apl8c221\n",
      "\n",
      "[50000 rows x 6 columns]\n"
     ]
    }
   ],
   "source": [
    "col_names = ['TermNum','Ignore','FileName','Rank','AccuracyScore','SystemName']\n",
    "data = pd.read_csv('D:\\VSCODE PROJECT\\\\IR\\\\dataset\\\\apl8c221.csv',names=col_names)\n",
    "\n",
    "dataSort1 = data.sort_values(by=['TermNum','AccuracyScore','Rank'], ascending=[True,False,True])\n",
    "dataSort1 = dataSort1[::-1]\n",
    "dataSort1['Rank'] = dataSort1.groupby('TermNum')['Rank'].transform(lambda x: x.sort_values(ascending=False))\n",
    "dataSort1 = dataSort1[::-1]\n",
    "print(dataSort1)\n",
    "\n",
    "save_path = \"D:\\VSCODE PROJECT\\\\IR\\\\cleaned\\\\apl8c221.csv\"\n",
    "dataSort1.to_csv(save_path, sep=\",\", header=False, index=False)"
   ]
  },
  {
   "cell_type": "code",
   "execution_count": 388,
   "metadata": {},
   "outputs": [
    {
     "name": "stdout",
     "output_type": "stream",
     "text": [
      "       TermNum Ignore     FileName  Rank  AccuracyScore SystemName\n",
      "0          401     Q0  FBIS3-20090     1       1.967133    Flab8ax\n",
      "1          401     Q0  FBIS4-18182     2       1.903533    Flab8ax\n",
      "2          401     Q0   FT924-4470     3       1.707829    Flab8ax\n",
      "3          401     Q0  FBIS3-39117     4       1.658248    Flab8ax\n",
      "4          401     Q0  FBIS3-59436     5       1.593160    Flab8ax\n",
      "...        ...    ...          ...   ...            ...        ...\n",
      "49995      450     Q0  FBIS3-14544   996       0.313029    Flab8ax\n",
      "49996      450     Q0  FBIS4-12150   997       0.312919    Flab8ax\n",
      "49997      450     Q0  FBIS3-13829   998       0.312864    Flab8ax\n",
      "49998      450     Q0   FT932-4971   999       0.312466    Flab8ax\n",
      "49999      450     Q0  FBIS3-52410  1000       0.312297    Flab8ax\n",
      "\n",
      "[50000 rows x 6 columns]\n"
     ]
    }
   ],
   "source": [
    "col_names = ['TermNum','Ignore','FileName','Rank','AccuracyScore','SystemName']\n",
    "data = pd.read_csv('D:\\VSCODE PROJECT\\IR\\dataset\\Flab8ax.csv',names=col_names)\n",
    "\n",
    "\n",
    "dataSort2 = data.sort_values(by=['TermNum','AccuracyScore','Rank'], ascending=[True,False,True])\n",
    "dataSort2 = dataSort2[::-1]\n",
    "dataSort2['Rank'] = dataSort2.groupby('TermNum')['Rank'].transform(lambda x: x.sort_values(ascending=False))\n",
    "dataSort2 = dataSort2[::-1]\n",
    "print(dataSort2)\n",
    "\n",
    "save_path = \"D:\\VSCODE PROJECT\\\\IR\\\\cleaned\\\\Flab8ax.csv\"\n",
    "dataSort2.to_csv(save_path, sep=\",\", header=False, index=False)"
   ]
  },
  {
   "cell_type": "code",
   "execution_count": 389,
   "metadata": {},
   "outputs": [
    {
     "name": "stdout",
     "output_type": "stream",
     "text": [
      "       TermNum Ignore     FileName  Rank  AccuracyScore SystemName\n",
      "0          401     Q0  FT922-14939     1      19.609444   att99ate\n",
      "1          401     Q0  FT922-10801     2      18.003141   att99ate\n",
      "2          401     Q0  FT922-15552     3      17.388166   att99ate\n",
      "3          401     Q0  FBIS3-20090     4      17.340698   att99ate\n",
      "4          401     Q0  FT922-10979     5      17.248894   att99ate\n",
      "...        ...    ...          ...   ...            ...        ...\n",
      "49995      450     Q0   FT923-1001   996      20.951300   att99ate\n",
      "49996      450     Q0  FBIS4-38174   997      20.951221   att99ate\n",
      "49997      450     Q0  FBIS4-11808   998      20.938559   att99ate\n",
      "49998      450     Q0  FBIS4-13138   999      20.936655   att99ate\n",
      "49999      450     Q0    FT911-305  1000      20.936275   att99ate\n",
      "\n",
      "[50000 rows x 6 columns]\n"
     ]
    }
   ],
   "source": [
    "col_names = ['TermNum','Ignore','FileName','Rank','AccuracyScore','SystemName']\n",
    "data = pd.read_csv('D:\\VSCODE PROJECT\\\\IR\\\\dataset\\\\att99ate.csv',names=col_names)\n",
    "\n",
    "\n",
    "dataSort3 = data.sort_values(by=['TermNum','AccuracyScore','Rank'], ascending=[True,False,True])\n",
    "dataSort3 = dataSort3[::-1]\n",
    "dataSort3['Rank'] = dataSort3.groupby('TermNum')['Rank'].transform(lambda x: x.sort_values(ascending=False))\n",
    "dataSort3 = dataSort3[::-1]\n",
    "print(dataSort3)\n",
    "\n",
    "save_path = \"D:\\VSCODE PROJECT\\\\IR\\\\cleaned\\\\att99ate.csv\"\n",
    "dataSort3.to_csv(save_path, sep=\",\", header=False, index=False)"
   ]
  },
  {
   "cell_type": "code",
   "execution_count": 390,
   "metadata": {},
   "outputs": [
    {
     "name": "stdout",
     "output_type": "stream",
     "text": [
      "       TermNum Ignore          FileName  Rank  AccuracyScore SystemName\n",
      "0          401     Q0  FR940831-2-00092     0     136.906082     Dm8Nbn\n",
      "1          401     Q0        FT921-5955     1     112.198609     Dm8Nbn\n",
      "2          401     Q0  FR940817-0-00050     2     108.928013     Dm8Nbn\n",
      "3          401     Q0  FR941021-1-00058     3     108.640864     Dm8Nbn\n",
      "4          401     Q0       FBIS4-50328     4     108.309349     Dm8Nbn\n",
      "...        ...    ...               ...   ...            ...        ...\n",
      "49995      450     Q0       FBIS4-13240   995      91.346775     Dm8Nbn\n",
      "49996      450     Q0       FBIS4-58795   996      91.342239     Dm8Nbn\n",
      "49997      450     Q0     LA081590-0072   997      91.340524     Dm8Nbn\n",
      "49998      450     Q0       FBIS4-17880   998      91.330244     Dm8Nbn\n",
      "49999      450     Q0       FBIS4-38284   999      91.306583     Dm8Nbn\n",
      "\n",
      "[50000 rows x 6 columns]\n"
     ]
    }
   ],
   "source": [
    "col_names = ['TermNum','Ignore','FileName','Rank','AccuracyScore','SystemName']\n",
    "data = pd.read_csv('D:\\VSCODE PROJECT\\IR\\dataset\\Dm8Nbn.csv',names=col_names)\n",
    "\n",
    "\n",
    "dataSort4 = data.sort_values(by=['TermNum','AccuracyScore','Rank'], ascending=[True,False,True])\n",
    "dataSort4 = dataSort4[::-1]\n",
    "dataSort4['Rank'] = dataSort4.groupby('TermNum')['Rank'].transform(lambda x: x.sort_values(ascending=False))\n",
    "dataSort4 = dataSort4[::-1]\n",
    "print(dataSort4)\n",
    "\n",
    "save_path = \"D:\\VSCODE PROJECT\\\\IR\\\\cleaned\\\\Dm8Nbn.csv\"\n",
    "dataSort4.to_csv(save_path, sep=\",\", header=False, index=False)"
   ]
  },
  {
   "cell_type": "code",
   "execution_count": 391,
   "metadata": {},
   "outputs": [
    {
     "name": "stdout",
     "output_type": "stream",
     "text": [
      "       TermNum Ignore       FileName  Rank  AccuracyScore SystemName\n",
      "0          401     Q0     FT924-4470     0       6.378189  Mer8Adtd2\n",
      "1          401     Q0     FBIS4-9582     1       6.354239  Mer8Adtd2\n",
      "2          401     Q0    FBIS4-18182     2       6.343416  Mer8Adtd2\n",
      "3          401     Q0    FBIS4-31704     3       5.974305  Mer8Adtd2\n",
      "4          401     Q0     FBIS3-8767     4       5.769367  Mer8Adtd2\n",
      "...        ...    ...            ...   ...            ...        ...\n",
      "49995      450     Q0  LA120490-0099   995       3.916955  Mer8Adtd2\n",
      "49996      450     Q0    FBIS4-12783   996       3.916172  Mer8Adtd2\n",
      "49997      450     Q0  LA122790-0080   997       3.916102  Mer8Adtd2\n",
      "49998      450     Q0    FBIS3-34163   998       3.915888  Mer8Adtd2\n",
      "49999      450     Q0  LA011789-0133   999       3.912763  Mer8Adtd2\n",
      "\n",
      "[50000 rows x 6 columns]\n"
     ]
    }
   ],
   "source": [
    "col_names = ['TermNum','Ignore','FileName','Rank','AccuracyScore','SystemName']\n",
    "data = pd.read_csv('D:\\VSCODE PROJECT\\IR\\dataset\\Mer8Adtd2.csv',names=col_names)\n",
    "\n",
    "\n",
    "dataSort5 = data.sort_values(by=['TermNum','AccuracyScore','Rank'], ascending=[True,False,True])\n",
    "dataSort5 = dataSort5[::-1]\n",
    "dataSort5['Rank'] = dataSort5.groupby('TermNum')['Rank'].transform(lambda x: x.sort_values(ascending=False))\n",
    "dataSort5 = dataSort5[::-1]\n",
    "print(dataSort5)\n",
    "\n",
    "\n",
    "save_path = \"D:\\VSCODE PROJECT\\\\IR\\\\cleaned\\\\Mer8Adtd2.csv\"\n",
    "dataSort5.to_csv(save_path, sep=\",\", header=False, index=False)"
   ]
  },
  {
   "cell_type": "code",
   "execution_count": 392,
   "metadata": {},
   "outputs": [
    {
     "name": "stdout",
     "output_type": "stream",
     "text": [
      "       topicID Identifier          docID  ranking  similarityScores systemName\n",
      "0          401         Q0    FBIS3-20090        1       9165.601562    Flab8at\n",
      "1          401         Q0      FT921-624        2       8290.635742    Flab8at\n",
      "2          401         Q0      FT921-476        3       8121.127930    Flab8at\n",
      "3          401         Q0     FT923-3137        4       7430.759766    Flab8at\n",
      "4          401         Q0     FT931-9969        5       7365.824707    Flab8at\n",
      "...        ...        ...            ...      ...               ...        ...\n",
      "49995      450         Q0    FBIS4-58798      996       7217.620117    Flab8at\n",
      "49996      450         Q0     FT924-1460      997       7216.861328    Flab8at\n",
      "49997      450         Q0     FT924-1880      998       7216.789062    Flab8at\n",
      "49998      450         Q0    FBIS4-58585      999       7216.674316    Flab8at\n",
      "49999      450         Q0  LA092390-0165     1000       7211.506836    Flab8at\n",
      "\n",
      "[50000 rows x 6 columns]\n",
      "       topicID Identifier          docID  ranking  similarityScores systemName\n",
      "1          401         Q0    FBIS3-42250        1          0.431174    GE8MTD2\n",
      "0          401         Q0    FBIS3-38475        2          0.431174    GE8MTD2\n",
      "2          401         Q0     FT924-3011        3          0.428116    GE8MTD2\n",
      "3          401         Q0     FT932-5626        4          0.427285    GE8MTD2\n",
      "4          401         Q0     FT924-5157        5          0.427032    GE8MTD2\n",
      "...        ...        ...            ...      ...               ...        ...\n",
      "49995      450         Q0    FT944-13340      996          0.420345    GE8MTD2\n",
      "49996      450         Q0    FBIS4-13683      997          0.420342    GE8MTD2\n",
      "49998      450         Q0  LA083190-0044      998          0.420337    GE8MTD2\n",
      "49997      450         Q0    FBIS3-52410      999          0.420337    GE8MTD2\n",
      "49999      450         Q0    FT944-13649     1000          0.420334    GE8MTD2\n",
      "\n",
      "[50000 rows x 6 columns]\n",
      "       topicID Identifier          docID  ranking  similarityScores systemName\n",
      "0          401         Q0    FBIS4-18182        1          0.834366   MITSLStd\n",
      "1          401         Q0     FT924-4470        2          0.824105   MITSLStd\n",
      "2          401         Q0    FBIS3-17077        3          0.740365   MITSLStd\n",
      "3          401         Q0     FT932-5884        4          0.631775   MITSLStd\n",
      "4          401         Q0    FBIS3-20090        5          0.583836   MITSLStd\n",
      "...        ...        ...            ...      ...               ...        ...\n",
      "49995      450         Q0     FT933-6066      996         -0.356903   MITSLStd\n",
      "49996      450         Q0     FBIS4-6814      997         -0.356962   MITSLStd\n",
      "49997      450         Q0  LA121190-0027      998         -0.358896   MITSLStd\n",
      "49998      450         Q0    FBIS4-51493      999         -0.358901   MITSLStd\n",
      "49999      450         Q0    FBIS3-13615     1000         -0.359180   MITSLStd\n",
      "\n",
      "[50000 rows x 6 columns]\n",
      "       topicID Identifier          docID  ranking  similarityScores systemName\n",
      "0          401         Q0    FBIS4-19680        1              1000     isa25t\n",
      "1          401         Q0  LA103089-0066        2               999     isa25t\n",
      "2          401         Q0    FBIS4-55625        3               998     isa25t\n",
      "3          401         Q0    FT921-11087        4               997     isa25t\n",
      "4          401         Q0     FT944-8635        5               996     isa25t\n",
      "...        ...        ...            ...      ...               ...        ...\n",
      "49060      450         Q0    FT943-16762      996                 5     isa25t\n",
      "49061      450         Q0  LA011590-0020      997                 4     isa25t\n",
      "49062      450         Q0  LA031289-0055      998                 3     isa25t\n",
      "49063      450         Q0  LA031389-0063      999                 2     isa25t\n",
      "49064      450         Q0  LA072790-0028     1000                 1     isa25t\n",
      "\n",
      "[49065 rows x 6 columns]\n",
      "       topicID Identifier        docID  ranking  similarityScores systemName\n",
      "0          401         Q0   FBIS3-9104        1         46.559814    mds08a2\n",
      "1          401         Q0  FBIS4-18182        2         46.226925    mds08a2\n",
      "2          401         Q0   FBIS4-9582        3         46.091038    mds08a2\n",
      "3          401         Q0   FBIS3-8767        4         45.956299    mds08a2\n",
      "4          401         Q0  FT932-10861        5         44.629910    mds08a2\n",
      "...        ...        ...          ...      ...               ...        ...\n",
      "49995      450         Q0  FBIS4-12112      996         37.280556    mds08a2\n",
      "49996      450         Q0  FBIS3-14238      997         37.270771    mds08a2\n",
      "49997      450         Q0  FBIS4-38157      998         37.244072    mds08a2\n",
      "49998      450         Q0  FBIS3-35251      999         37.241848    mds08a2\n",
      "49999      450         Q0  FBIS3-33703     1000         37.226665    mds08a2\n",
      "\n",
      "[50000 rows x 6 columns]\n"
     ]
    }
   ],
   "source": [
    "# Load and process all input files\n",
    "def load_and_process(file_path):\n",
    "    \n",
    "    columns=[\n",
    "        'topicID',\n",
    "        'Identifier',\n",
    "        'docID',\n",
    "        'ranking',\n",
    "        'similarityScores',\n",
    "        'systemName'\n",
    "    ]\n",
    "    data = pd.read_csv(file_path, names=columns)\n",
    "\n",
    "    data_sorted = data.sort_values(by=['topicID', 'ranking'], ascending=[True, True])\n",
    "    return data_sorted\n",
    "\n",
    "data1 = load_and_process('D:\\VSCODE PROJECT\\IR\\dataset\\Flab8at.csv')\n",
    "data2 = load_and_process('D:\\VSCODE PROJECT\\IR\\dataset\\GE8MTD2.csv')\n",
    "data3 = load_and_process('D:\\VSCODE PROJECT\\IR\\dataset\\MITSLStd.csv')\n",
    "data4 = load_and_process('D:\\VSCODE PROJECT\\IR\\dataset\\input.isa25t.csv')\n",
    "data5 = load_and_process('D:\\VSCODE PROJECT\\IR\\dataset\\mds08a2.csv')\n",
    "\n",
    "print(data1)\n",
    "print(data2)\n",
    "print(data3)\n",
    "print(data4)\n",
    "print(data5)\n",
    "\n",
    "data1.to_csv(\"D:\\VSCODE PROJECT\\\\IR\\\\cleaned\\\\Flab8at.csv\", sep=\",\", header=False, index=False)\n",
    "data2.to_csv(\"D:\\VSCODE PROJECT\\\\IR\\\\cleaned\\\\GE8MTD2.csv\", sep=\",\", header=False, index=False)\n",
    "data3.to_csv(\"D:\\VSCODE PROJECT\\\\IR\\\\cleaned\\\\MITSLStd.csv\", sep=\",\", header=False, index=False)\n",
    "data4.to_csv(\"D:\\VSCODE PROJECT\\\\IR\\\\cleaned\\\\isa25t.csv\", sep=\",\", header=False, index=False)\n",
    "data5.to_csv(\"D:\\VSCODE PROJECT\\\\IR\\\\cleaned\\\\mds08a2.csv\", sep=\",\", header=False, index=False)"
   ]
  }
 ],
 "metadata": {
  "kernelspec": {
   "display_name": "base",
   "language": "python",
   "name": "python3"
  },
  "language_info": {
   "codemirror_mode": {
    "name": "ipython",
    "version": 3
   },
   "file_extension": ".py",
   "mimetype": "text/x-python",
   "name": "python",
   "nbconvert_exporter": "python",
   "pygments_lexer": "ipython3",
   "version": "3.11.7"
  }
 },
 "nbformat": 4,
 "nbformat_minor": 2
}
